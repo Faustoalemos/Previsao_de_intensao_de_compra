{
 "cells": [
  {
   "cell_type": "markdown",
   "id": "30d7154a",
   "metadata": {},
   "source": [
    "<h1>\n",
    "Previsão de intensão de compra de Usuários de E-Commerce.\n",
    "</h1>\n",
    "\n",
    "## Problema de negócio.\n",
    "\n",
    "    - Obter uma classificação de intensão de compra de clientes que utilizam o e-commerce, para que a equipe de marketing possa fazer campanhas direcionadas de produtos para esses clientes que estão propensos a comprar ao entrar no site.\n",
    "\n",
    " \n",
    "## Base de dados\n",
    "\n",
    "    Link para acesso do banco de dados: https://archive.ics.uci.edu/ml/datasets/Online+Shoppers+Purchasing+Intention+Dataset\n",
    "\n",
    "\n",
    "##### Você está aqui pelo processo completo e as linhas de código?\n",
    "    Siga em frente em cada etapa e caso se sinta a vontade me ajude a desenvolver ainda mais a minha visão sobre analise exploratória de dados.\n",
    "\n",
    "##### Você está aqui pelo resultado final?\n",
    "    Vá direto ao final conclusão final para entender o resultado final do tratamento e a exploração dos dados.\n",
    "    \n",
    "    \n",
    "  \n",
    "<h2>\n",
    "         1. Instalação e importação das bibliotecas;\n",
    "</h2>\n",
    "   \n",
    "    \n",
    "    1.1 Documentação do pacote de dados Pandas link: https://pandas.pydata.org/docs/\n",
    "\n",
    "    1.2 Documentação do pacote de dados Seaborn link:https://www.w3schools.com/python/numpy/numpy_random_seaborn.asp\n",
    "\n",
    "    1.3 Documentação do pacote de dados scikit-learn link:https://scikit-learn.org/0.21/documentation.html\n",
    "\n",
    "    1.4 Documentação do pacote de dados Numpy link: https://numpy.org/doc/\n",
    "\n",
    "    1.5 Documentação do pacote de dados Matplotlib link: https://matplotlib.org/stable/index.html\n",
    "   \n",
    "   \n",
    "   \n",
    "\n",
    "<h2>\n",
    "        2. Importação dos dados;\n",
    "</h2>\n",
    "\n",
    "\n",
    "\n",
    "\n",
    "<h2>\n",
    "        3. Exploração do Dataset; \n",
    "</h2>\n",
    "   \n",
    "    3.1 Visualização das primeiras e ultimas linhas da tabela;\n",
    "    \n",
    "    3.2 Visualizando o tamanho total do dataset;\n",
    "    \n",
    "    3.3 Visualizando o nome de cada uma das colunas;\n",
    "    \n",
    "    3.4 Verificando a indexação das linhas;\n",
    "    \n",
    "    3.5 Analise de valores únicos dentro das colunas;\n",
    "    \n",
    "        3.5.1 Visualizando os valores que são únicos;\n",
    "    \n",
    "    3.6 Analisando o formato de cada coluna;\n",
    "\n",
    "    3.7 Identificando valores missing;\n",
    "    \n",
    "    3.8 Visualizar linhas duplicadas;\n",
    "    \n",
    "        3.8.1 Visualizando as linhas duplicadas;    \n",
    "   \n",
    "<h2>\n",
    "     4. Limpeza dos dados;\n",
    "</h2>\n",
    "     \n",
    "      4.1 Tratamento das linhas duplicadas;\n",
    "      \n",
    "      4.2 Tratamento dos dados nulos;\n",
    "      \n",
    "      4.3 Separar dados categoricos e dados numéricos;\n",
    "      \n",
    "<h2>\n",
    "     5. Análise exploratória dos dados;\n",
    "</h2>\n",
    "\n",
    "      5.1 Análises e insights importantes;\n",
    "      \n",
    "      5.2 Correlações entre os dados;\n",
    "\n",
    "<h2>\n",
    "     6. Transformação e pré-processamento dos dados;\n",
    "</h2>\n",
    "\n",
    "\n",
    "      6.1 Transformando as variáveis categóricas;\n",
    "      \n",
    "      6.2 Balanceamento dos dados;\n",
    "\n",
    "\n",
    "\n",
    "<h2>\n",
    "     7. Criação dos modelos preditivos de classificação e avaliação do resultado;\n",
    "</h2>\n",
    "\n",
    "\n",
    "      7.1 Separação dos dados de treino e teste;\n",
    "      \n",
    "      7.2 Criação dos modelos e treino;\n",
    "      \n",
    "      7.3 Avaliação do resultado;\n",
    "      \n",
    "      7.4 Criando uma nova maquina preditiva com a otimização de hiperparâmetros;\n",
    "      \n",
    "          7.4.1 Valores utilizados no grid do hiperparâmetro;\n",
    "          \n",
    "      7.5 Criando a segunda maquina preditiva e avaliando;\n",
    "      \n",
    "      7.6 Comparativo final entre os dois modelos criados; \n",
    "      \n",
    "\n",
    "<h2>\n",
    "     8. Conclusões finais;\n",
    "</h2>\n",
    "\n",
    "\n",
    "___\n",
    "    "
   ]
  },
  {
   "cell_type": "markdown",
   "id": "f2c37728",
   "metadata": {},
   "source": [
    "<h2>\n",
    "         1. Instalação e importação das bibliotecas;\n",
    "</h2>"
   ]
  },
  {
   "cell_type": "code",
   "execution_count": 1,
   "id": "26342e31",
   "metadata": {},
   "outputs": [
    {
     "name": "stderr",
     "output_type": "stream",
     "text": [
      "WARNING: Ignoring invalid distribution -illow (c:\\appcd\\python\\lib\\site-packages)\n",
      "WARNING: Ignoring invalid distribution -illow (c:\\appcd\\python\\lib\\site-packages)\n",
      "WARNING: Ignoring invalid distribution -illow (c:\\appcd\\python\\lib\\site-packages)\n",
      "WARNING: Ignoring invalid distribution -illow (c:\\appcd\\python\\lib\\site-packages)\n",
      "WARNING: Ignoring invalid distribution -illow (c:\\appcd\\python\\lib\\site-packages)\n",
      "WARNING: Ignoring invalid distribution -illow (c:\\appcd\\python\\lib\\site-packages)\n",
      "WARNING: Ignoring invalid distribution -illow (c:\\appcd\\python\\lib\\site-packages)\n",
      "WARNING: Ignoring invalid distribution -illow (c:\\appcd\\python\\lib\\site-packages)\n",
      "WARNING: Ignoring invalid distribution -illow (c:\\appcd\\python\\lib\\site-packages)\n",
      "WARNING: Ignoring invalid distribution -illow (c:\\appcd\\python\\lib\\site-packages)\n",
      "WARNING: Ignoring invalid distribution -illow (c:\\appcd\\python\\lib\\site-packages)\n",
      "WARNING: Ignoring invalid distribution -illow (c:\\appcd\\python\\lib\\site-packages)\n"
     ]
    }
   ],
   "source": [
    "!pip install -q -U watermark\n",
    "!pip install -q imblearn\n",
    "\n",
    "import time\n",
    "import pandas as pd\n",
    "import seaborn as sns\n",
    "import numpy as np\n",
    "import matplotlib.pyplot as plt\n",
    "import matplotlib.image as mpimg\n",
    "import sklearn\n",
    "import matplotlib\n",
    "import imblearn\n",
    "from sklearn.model_selection import train_test_split\n",
    "%matplotlib inline\n",
    "from imblearn.over_sampling import SMOTE\n",
    "from sklearn.preprocessing import LabelEncoder\n",
    "from sklearn.preprocessing import StandardScaler\n",
    "from sklearn.naive_bayes import GaussianNB\n",
    "from sklearn.model_selection import GridSearchCV\n",
    "from sklearn.metrics import precision_score, recall_score,f1_score,accuracy_score,roc_auc_score\n",
    "from sklearn import svm\n",
    "from sklearn.preprocessing import MinMaxScaler\n",
    "from IPython.display import Image\n",
    "from IPython.display import display\n",
    "style = {'description_width': 'initial'}\n",
    "\n",
    "\n",
    "import warnings\n",
    "warnings.filterwarnings('ignore')"
   ]
  },
  {
   "cell_type": "markdown",
   "id": "0b2da67b",
   "metadata": {},
   "source": [
    "- Para entender as versões de cada biblioteca podemos utilizar o reload_ext"
   ]
  },
  {
   "cell_type": "code",
   "execution_count": 2,
   "id": "ce12da6f",
   "metadata": {},
   "outputs": [
    {
     "name": "stdout",
     "output_type": "stream",
     "text": [
      "Author: Fausto A. Lemos\n",
      "\n",
      "numpy     : 1.21.5\n",
      "imblearn  : 0.0\n",
      "sklearn   : 1.0.2\n",
      "seaborn   : 0.11.2\n",
      "pandas    : 1.4.4\n",
      "matplotlib: 3.5.2\n",
      "\n"
     ]
    }
   ],
   "source": [
    "%reload_ext watermark\n",
    "%watermark -a \"Fausto A. Lemos\" --iversions"
   ]
  },
  {
   "cell_type": "markdown",
   "id": "f0ec1238",
   "metadata": {},
   "source": [
    "<h2>\n",
    "        2. Importação dos dados;\n",
    "</h2>"
   ]
  },
  {
   "cell_type": "code",
   "execution_count": 3,
   "id": "bba6703d",
   "metadata": {},
   "outputs": [],
   "source": [
    "data=pd.read_csv('online_shoppers_intention.csv')"
   ]
  },
  {
   "cell_type": "markdown",
   "id": "a5e3afb3",
   "metadata": {},
   "source": [
    "<h2>\n",
    "        3. Exploração do Dataset; \n",
    "</h2>"
   ]
  },
  {
   "cell_type": "markdown",
   "id": "88183c6a",
   "metadata": {},
   "source": [
    "<h4>\n",
    "   3.1 Visualização das primeiras e ultimas linhas da tabela; \n",
    "</h4>    "
   ]
  },
  {
   "cell_type": "code",
   "execution_count": 4,
   "id": "e9150a0e",
   "metadata": {},
   "outputs": [
    {
     "data": {
      "text/html": [
       "<div>\n",
       "<style scoped>\n",
       "    .dataframe tbody tr th:only-of-type {\n",
       "        vertical-align: middle;\n",
       "    }\n",
       "\n",
       "    .dataframe tbody tr th {\n",
       "        vertical-align: top;\n",
       "    }\n",
       "\n",
       "    .dataframe thead th {\n",
       "        text-align: right;\n",
       "    }\n",
       "</style>\n",
       "<table border=\"1\" class=\"dataframe\">\n",
       "  <thead>\n",
       "    <tr style=\"text-align: right;\">\n",
       "      <th></th>\n",
       "      <th>Administrative</th>\n",
       "      <th>Administrative_Duration</th>\n",
       "      <th>Informational</th>\n",
       "      <th>Informational_Duration</th>\n",
       "      <th>ProductRelated</th>\n",
       "      <th>ProductRelated_Duration</th>\n",
       "      <th>BounceRates</th>\n",
       "      <th>ExitRates</th>\n",
       "      <th>PageValues</th>\n",
       "      <th>SpecialDay</th>\n",
       "      <th>Month</th>\n",
       "      <th>OperatingSystems</th>\n",
       "      <th>Browser</th>\n",
       "      <th>Region</th>\n",
       "      <th>TrafficType</th>\n",
       "      <th>VisitorType</th>\n",
       "      <th>Weekend</th>\n",
       "      <th>Revenue</th>\n",
       "    </tr>\n",
       "  </thead>\n",
       "  <tbody>\n",
       "    <tr>\n",
       "      <th>0</th>\n",
       "      <td>0.0</td>\n",
       "      <td>0.0</td>\n",
       "      <td>0.0</td>\n",
       "      <td>0.0</td>\n",
       "      <td>1.0</td>\n",
       "      <td>0.000000</td>\n",
       "      <td>0.20</td>\n",
       "      <td>0.20</td>\n",
       "      <td>0.0</td>\n",
       "      <td>0.0</td>\n",
       "      <td>Feb</td>\n",
       "      <td>1</td>\n",
       "      <td>1</td>\n",
       "      <td>1</td>\n",
       "      <td>1</td>\n",
       "      <td>Returning_Visitor</td>\n",
       "      <td>False</td>\n",
       "      <td>False</td>\n",
       "    </tr>\n",
       "    <tr>\n",
       "      <th>1</th>\n",
       "      <td>0.0</td>\n",
       "      <td>0.0</td>\n",
       "      <td>0.0</td>\n",
       "      <td>0.0</td>\n",
       "      <td>2.0</td>\n",
       "      <td>64.000000</td>\n",
       "      <td>0.00</td>\n",
       "      <td>0.10</td>\n",
       "      <td>0.0</td>\n",
       "      <td>0.0</td>\n",
       "      <td>Feb</td>\n",
       "      <td>2</td>\n",
       "      <td>2</td>\n",
       "      <td>1</td>\n",
       "      <td>2</td>\n",
       "      <td>Returning_Visitor</td>\n",
       "      <td>False</td>\n",
       "      <td>False</td>\n",
       "    </tr>\n",
       "    <tr>\n",
       "      <th>2</th>\n",
       "      <td>0.0</td>\n",
       "      <td>-1.0</td>\n",
       "      <td>0.0</td>\n",
       "      <td>-1.0</td>\n",
       "      <td>1.0</td>\n",
       "      <td>-1.000000</td>\n",
       "      <td>0.20</td>\n",
       "      <td>0.20</td>\n",
       "      <td>0.0</td>\n",
       "      <td>0.0</td>\n",
       "      <td>Feb</td>\n",
       "      <td>4</td>\n",
       "      <td>1</td>\n",
       "      <td>9</td>\n",
       "      <td>3</td>\n",
       "      <td>Returning_Visitor</td>\n",
       "      <td>False</td>\n",
       "      <td>False</td>\n",
       "    </tr>\n",
       "    <tr>\n",
       "      <th>3</th>\n",
       "      <td>0.0</td>\n",
       "      <td>0.0</td>\n",
       "      <td>0.0</td>\n",
       "      <td>0.0</td>\n",
       "      <td>2.0</td>\n",
       "      <td>2.666667</td>\n",
       "      <td>0.05</td>\n",
       "      <td>0.14</td>\n",
       "      <td>0.0</td>\n",
       "      <td>0.0</td>\n",
       "      <td>Feb</td>\n",
       "      <td>3</td>\n",
       "      <td>2</td>\n",
       "      <td>2</td>\n",
       "      <td>4</td>\n",
       "      <td>Returning_Visitor</td>\n",
       "      <td>False</td>\n",
       "      <td>False</td>\n",
       "    </tr>\n",
       "    <tr>\n",
       "      <th>4</th>\n",
       "      <td>0.0</td>\n",
       "      <td>0.0</td>\n",
       "      <td>0.0</td>\n",
       "      <td>0.0</td>\n",
       "      <td>10.0</td>\n",
       "      <td>627.500000</td>\n",
       "      <td>0.02</td>\n",
       "      <td>0.05</td>\n",
       "      <td>0.0</td>\n",
       "      <td>0.0</td>\n",
       "      <td>Feb</td>\n",
       "      <td>3</td>\n",
       "      <td>3</td>\n",
       "      <td>1</td>\n",
       "      <td>4</td>\n",
       "      <td>Returning_Visitor</td>\n",
       "      <td>True</td>\n",
       "      <td>False</td>\n",
       "    </tr>\n",
       "  </tbody>\n",
       "</table>\n",
       "</div>"
      ],
      "text/plain": [
       "   Administrative  Administrative_Duration  Informational  \\\n",
       "0             0.0                      0.0            0.0   \n",
       "1             0.0                      0.0            0.0   \n",
       "2             0.0                     -1.0            0.0   \n",
       "3             0.0                      0.0            0.0   \n",
       "4             0.0                      0.0            0.0   \n",
       "\n",
       "   Informational_Duration  ProductRelated  ProductRelated_Duration  \\\n",
       "0                     0.0             1.0                 0.000000   \n",
       "1                     0.0             2.0                64.000000   \n",
       "2                    -1.0             1.0                -1.000000   \n",
       "3                     0.0             2.0                 2.666667   \n",
       "4                     0.0            10.0               627.500000   \n",
       "\n",
       "   BounceRates  ExitRates  PageValues  SpecialDay Month  OperatingSystems  \\\n",
       "0         0.20       0.20         0.0         0.0   Feb                 1   \n",
       "1         0.00       0.10         0.0         0.0   Feb                 2   \n",
       "2         0.20       0.20         0.0         0.0   Feb                 4   \n",
       "3         0.05       0.14         0.0         0.0   Feb                 3   \n",
       "4         0.02       0.05         0.0         0.0   Feb                 3   \n",
       "\n",
       "   Browser  Region  TrafficType        VisitorType  Weekend  Revenue  \n",
       "0        1       1            1  Returning_Visitor    False    False  \n",
       "1        2       1            2  Returning_Visitor    False    False  \n",
       "2        1       9            3  Returning_Visitor    False    False  \n",
       "3        2       2            4  Returning_Visitor    False    False  \n",
       "4        3       1            4  Returning_Visitor     True    False  "
      ]
     },
     "execution_count": 4,
     "metadata": {},
     "output_type": "execute_result"
    }
   ],
   "source": [
    "data.head()"
   ]
  },
  {
   "cell_type": "code",
   "execution_count": 5,
   "id": "20271ebe",
   "metadata": {},
   "outputs": [
    {
     "data": {
      "text/html": [
       "<div>\n",
       "<style scoped>\n",
       "    .dataframe tbody tr th:only-of-type {\n",
       "        vertical-align: middle;\n",
       "    }\n",
       "\n",
       "    .dataframe tbody tr th {\n",
       "        vertical-align: top;\n",
       "    }\n",
       "\n",
       "    .dataframe thead th {\n",
       "        text-align: right;\n",
       "    }\n",
       "</style>\n",
       "<table border=\"1\" class=\"dataframe\">\n",
       "  <thead>\n",
       "    <tr style=\"text-align: right;\">\n",
       "      <th></th>\n",
       "      <th>Administrative</th>\n",
       "      <th>Administrative_Duration</th>\n",
       "      <th>Informational</th>\n",
       "      <th>Informational_Duration</th>\n",
       "      <th>ProductRelated</th>\n",
       "      <th>ProductRelated_Duration</th>\n",
       "      <th>BounceRates</th>\n",
       "      <th>ExitRates</th>\n",
       "      <th>PageValues</th>\n",
       "      <th>SpecialDay</th>\n",
       "      <th>Month</th>\n",
       "      <th>OperatingSystems</th>\n",
       "      <th>Browser</th>\n",
       "      <th>Region</th>\n",
       "      <th>TrafficType</th>\n",
       "      <th>VisitorType</th>\n",
       "      <th>Weekend</th>\n",
       "      <th>Revenue</th>\n",
       "    </tr>\n",
       "  </thead>\n",
       "  <tbody>\n",
       "    <tr>\n",
       "      <th>12325</th>\n",
       "      <td>3.0</td>\n",
       "      <td>145.0</td>\n",
       "      <td>0.0</td>\n",
       "      <td>0.0</td>\n",
       "      <td>53.0</td>\n",
       "      <td>1783.791667</td>\n",
       "      <td>0.007143</td>\n",
       "      <td>0.029031</td>\n",
       "      <td>12.241717</td>\n",
       "      <td>0.0</td>\n",
       "      <td>Dec</td>\n",
       "      <td>4</td>\n",
       "      <td>6</td>\n",
       "      <td>1</td>\n",
       "      <td>1</td>\n",
       "      <td>Returning_Visitor</td>\n",
       "      <td>True</td>\n",
       "      <td>False</td>\n",
       "    </tr>\n",
       "    <tr>\n",
       "      <th>12326</th>\n",
       "      <td>0.0</td>\n",
       "      <td>0.0</td>\n",
       "      <td>0.0</td>\n",
       "      <td>0.0</td>\n",
       "      <td>5.0</td>\n",
       "      <td>465.750000</td>\n",
       "      <td>0.000000</td>\n",
       "      <td>0.021333</td>\n",
       "      <td>0.000000</td>\n",
       "      <td>0.0</td>\n",
       "      <td>Nov</td>\n",
       "      <td>3</td>\n",
       "      <td>2</td>\n",
       "      <td>1</td>\n",
       "      <td>8</td>\n",
       "      <td>Returning_Visitor</td>\n",
       "      <td>True</td>\n",
       "      <td>False</td>\n",
       "    </tr>\n",
       "    <tr>\n",
       "      <th>12327</th>\n",
       "      <td>0.0</td>\n",
       "      <td>0.0</td>\n",
       "      <td>0.0</td>\n",
       "      <td>0.0</td>\n",
       "      <td>6.0</td>\n",
       "      <td>184.250000</td>\n",
       "      <td>0.083333</td>\n",
       "      <td>0.086667</td>\n",
       "      <td>0.000000</td>\n",
       "      <td>0.0</td>\n",
       "      <td>Nov</td>\n",
       "      <td>3</td>\n",
       "      <td>2</td>\n",
       "      <td>1</td>\n",
       "      <td>13</td>\n",
       "      <td>Returning_Visitor</td>\n",
       "      <td>True</td>\n",
       "      <td>False</td>\n",
       "    </tr>\n",
       "    <tr>\n",
       "      <th>12328</th>\n",
       "      <td>4.0</td>\n",
       "      <td>75.0</td>\n",
       "      <td>0.0</td>\n",
       "      <td>0.0</td>\n",
       "      <td>15.0</td>\n",
       "      <td>346.000000</td>\n",
       "      <td>0.000000</td>\n",
       "      <td>0.021053</td>\n",
       "      <td>0.000000</td>\n",
       "      <td>0.0</td>\n",
       "      <td>Nov</td>\n",
       "      <td>2</td>\n",
       "      <td>2</td>\n",
       "      <td>3</td>\n",
       "      <td>11</td>\n",
       "      <td>Returning_Visitor</td>\n",
       "      <td>False</td>\n",
       "      <td>False</td>\n",
       "    </tr>\n",
       "    <tr>\n",
       "      <th>12329</th>\n",
       "      <td>0.0</td>\n",
       "      <td>0.0</td>\n",
       "      <td>0.0</td>\n",
       "      <td>0.0</td>\n",
       "      <td>3.0</td>\n",
       "      <td>21.250000</td>\n",
       "      <td>0.000000</td>\n",
       "      <td>0.066667</td>\n",
       "      <td>0.000000</td>\n",
       "      <td>0.0</td>\n",
       "      <td>Nov</td>\n",
       "      <td>3</td>\n",
       "      <td>2</td>\n",
       "      <td>1</td>\n",
       "      <td>2</td>\n",
       "      <td>New_Visitor</td>\n",
       "      <td>True</td>\n",
       "      <td>False</td>\n",
       "    </tr>\n",
       "  </tbody>\n",
       "</table>\n",
       "</div>"
      ],
      "text/plain": [
       "       Administrative  Administrative_Duration  Informational  \\\n",
       "12325             3.0                    145.0            0.0   \n",
       "12326             0.0                      0.0            0.0   \n",
       "12327             0.0                      0.0            0.0   \n",
       "12328             4.0                     75.0            0.0   \n",
       "12329             0.0                      0.0            0.0   \n",
       "\n",
       "       Informational_Duration  ProductRelated  ProductRelated_Duration  \\\n",
       "12325                     0.0            53.0              1783.791667   \n",
       "12326                     0.0             5.0               465.750000   \n",
       "12327                     0.0             6.0               184.250000   \n",
       "12328                     0.0            15.0               346.000000   \n",
       "12329                     0.0             3.0                21.250000   \n",
       "\n",
       "       BounceRates  ExitRates  PageValues  SpecialDay Month  OperatingSystems  \\\n",
       "12325     0.007143   0.029031   12.241717         0.0   Dec                 4   \n",
       "12326     0.000000   0.021333    0.000000         0.0   Nov                 3   \n",
       "12327     0.083333   0.086667    0.000000         0.0   Nov                 3   \n",
       "12328     0.000000   0.021053    0.000000         0.0   Nov                 2   \n",
       "12329     0.000000   0.066667    0.000000         0.0   Nov                 3   \n",
       "\n",
       "       Browser  Region  TrafficType        VisitorType  Weekend  Revenue  \n",
       "12325        6       1            1  Returning_Visitor     True    False  \n",
       "12326        2       1            8  Returning_Visitor     True    False  \n",
       "12327        2       1           13  Returning_Visitor     True    False  \n",
       "12328        2       3           11  Returning_Visitor    False    False  \n",
       "12329        2       1            2        New_Visitor     True    False  "
      ]
     },
     "execution_count": 5,
     "metadata": {},
     "output_type": "execute_result"
    }
   ],
   "source": [
    "data.tail()"
   ]
  },
  {
   "cell_type": "markdown",
   "id": "6a2f0b22",
   "metadata": {},
   "source": [
    "<h4>\n",
    "   3.2 Visualizando o tamanho total do dataset; \n",
    "</h4>    "
   ]
  },
  {
   "cell_type": "code",
   "execution_count": 6,
   "id": "12182a93",
   "metadata": {},
   "outputs": [
    {
     "data": {
      "text/plain": [
       "(12330, 18)"
      ]
     },
     "execution_count": 6,
     "metadata": {},
     "output_type": "execute_result"
    }
   ],
   "source": [
    "data.shape"
   ]
  },
  {
   "cell_type": "markdown",
   "id": "3acee6df",
   "metadata": {},
   "source": [
    "<h4>\n",
    "   3.3 Visualizando o nome de cada uma das colunas;\n",
    "</h4>    "
   ]
  },
  {
   "cell_type": "code",
   "execution_count": 7,
   "id": "4f12e459",
   "metadata": {},
   "outputs": [
    {
     "data": {
      "text/plain": [
       "Index(['Administrative', 'Administrative_Duration', 'Informational',\n",
       "       'Informational_Duration', 'ProductRelated', 'ProductRelated_Duration',\n",
       "       'BounceRates', 'ExitRates', 'PageValues', 'SpecialDay', 'Month',\n",
       "       'OperatingSystems', 'Browser', 'Region', 'TrafficType', 'VisitorType',\n",
       "       'Weekend', 'Revenue'],\n",
       "      dtype='object')"
      ]
     },
     "execution_count": 7,
     "metadata": {},
     "output_type": "execute_result"
    }
   ],
   "source": [
    "data.columns"
   ]
  },
  {
   "cell_type": "markdown",
   "id": "f259e54e",
   "metadata": {},
   "source": [
    "- Podemos utilizar para caso necessário quisermos pegar o nome de cada coluna para tratamento já no formato correto."
   ]
  },
  {
   "cell_type": "markdown",
   "id": "ef7369cf",
   "metadata": {},
   "source": [
    "<h4>\n",
    "   3.4 Verificando a indexação das linhas;\n",
    "</h4> "
   ]
  },
  {
   "cell_type": "code",
   "execution_count": 8,
   "id": "7eeb03a3",
   "metadata": {},
   "outputs": [
    {
     "data": {
      "text/plain": [
       "RangeIndex(start=0, stop=12330, step=1)"
      ]
     },
     "execution_count": 8,
     "metadata": {},
     "output_type": "execute_result"
    }
   ],
   "source": [
    "data.index"
   ]
  },
  {
   "cell_type": "markdown",
   "id": "641b2579",
   "metadata": {},
   "source": [
    "- Somente para visualizar e verificar a indexação de cada linha, como serão identificadas."
   ]
  },
  {
   "cell_type": "markdown",
   "id": "b97494de",
   "metadata": {},
   "source": [
    "<h4>\n",
    "    3.5 Analise de valores únicos dentro das colunas;\n",
    "</h4>     "
   ]
  },
  {
   "cell_type": "code",
   "execution_count": 9,
   "id": "621bd526",
   "metadata": {},
   "outputs": [
    {
     "data": {
      "text/plain": [
       "Administrative               27\n",
       "Administrative_Duration    3336\n",
       "Informational                17\n",
       "Informational_Duration     1259\n",
       "ProductRelated              311\n",
       "ProductRelated_Duration    9552\n",
       "BounceRates                1872\n",
       "ExitRates                  4777\n",
       "PageValues                 2704\n",
       "SpecialDay                    6\n",
       "Month                        10\n",
       "OperatingSystems              8\n",
       "Browser                      13\n",
       "Region                        9\n",
       "TrafficType                  20\n",
       "VisitorType                   3\n",
       "Weekend                       2\n",
       "Revenue                       2\n",
       "dtype: int64"
      ]
     },
     "execution_count": 9,
     "metadata": {},
     "output_type": "execute_result"
    }
   ],
   "source": [
    "data.nunique()"
   ]
  },
  {
   "cell_type": "markdown",
   "id": "a13d415f",
   "metadata": {},
   "source": [
    "- Para fins de visualização, dividiremos os dados em variáveis contínuas e categóricas. Trataremos todas as variáveis com menos de 30 entradas únicas como categóricas, isso não é um padrão mas seria uma forma de entender e separar de forma prática."
   ]
  },
  {
   "cell_type": "markdown",
   "id": "16659c90",
   "metadata": {},
   "source": [
    "<h4>\n",
    "        3.6 Analisando o formato de cada coluna;\n",
    "</h4> "
   ]
  },
  {
   "cell_type": "code",
   "execution_count": 10,
   "id": "b10f3a33",
   "metadata": {},
   "outputs": [
    {
     "name": "stdout",
     "output_type": "stream",
     "text": [
      "<class 'pandas.core.frame.DataFrame'>\n",
      "RangeIndex: 12330 entries, 0 to 12329\n",
      "Data columns (total 18 columns):\n",
      " #   Column                   Non-Null Count  Dtype  \n",
      "---  ------                   --------------  -----  \n",
      " 0   Administrative           12316 non-null  float64\n",
      " 1   Administrative_Duration  12316 non-null  float64\n",
      " 2   Informational            12316 non-null  float64\n",
      " 3   Informational_Duration   12316 non-null  float64\n",
      " 4   ProductRelated           12316 non-null  float64\n",
      " 5   ProductRelated_Duration  12316 non-null  float64\n",
      " 6   BounceRates              12316 non-null  float64\n",
      " 7   ExitRates                12316 non-null  float64\n",
      " 8   PageValues               12330 non-null  float64\n",
      " 9   SpecialDay               12330 non-null  float64\n",
      " 10  Month                    12330 non-null  object \n",
      " 11  OperatingSystems         12330 non-null  int64  \n",
      " 12  Browser                  12330 non-null  int64  \n",
      " 13  Region                   12330 non-null  int64  \n",
      " 14  TrafficType              12330 non-null  int64  \n",
      " 15  VisitorType              12330 non-null  object \n",
      " 16  Weekend                  12330 non-null  bool   \n",
      " 17  Revenue                  12330 non-null  bool   \n",
      "dtypes: bool(2), float64(10), int64(4), object(2)\n",
      "memory usage: 1.5+ MB\n"
     ]
    }
   ],
   "source": [
    "data.info()"
   ]
  },
  {
   "cell_type": "markdown",
   "id": "9a4f9c8e",
   "metadata": {},
   "source": [
    "- Perceptível que temos linhas com valores nulos 14 linhas que podemos tratar posteriormente na fase de limpeza dos dados. Além disso as colunas month e visitor type se tratam de formatos string e o as ultimas duas colunas são dados boleanos que também deverão ser tratados posteriormente."
   ]
  },
  {
   "cell_type": "markdown",
   "id": "cfb5e176",
   "metadata": {},
   "source": [
    "<h4>\n",
    "   3.7 Identificando valores missing;\n",
    "</h4>  "
   ]
  },
  {
   "cell_type": "code",
   "execution_count": 11,
   "id": "8d48caf9",
   "metadata": {},
   "outputs": [
    {
     "data": {
      "text/plain": [
       "Administrative             14\n",
       "Administrative_Duration    14\n",
       "Informational              14\n",
       "Informational_Duration     14\n",
       "ProductRelated             14\n",
       "ProductRelated_Duration    14\n",
       "BounceRates                14\n",
       "ExitRates                  14\n",
       "PageValues                  0\n",
       "SpecialDay                  0\n",
       "Month                       0\n",
       "OperatingSystems            0\n",
       "Browser                     0\n",
       "Region                      0\n",
       "TrafficType                 0\n",
       "VisitorType                 0\n",
       "Weekend                     0\n",
       "Revenue                     0\n",
       "dtype: int64"
      ]
     },
     "execution_count": 11,
     "metadata": {},
     "output_type": "execute_result"
    }
   ],
   "source": [
    "data.isnull().sum()"
   ]
  },
  {
   "cell_type": "markdown",
   "id": "d9ff3a19",
   "metadata": {},
   "source": [
    "- Somente como confirmação as 14 linhas com valores nulos."
   ]
  },
  {
   "cell_type": "markdown",
   "id": "e4aca6a0",
   "metadata": {},
   "source": [
    "<h4>\n",
    "   3.8 Visualizar linhas duplicadas;\n",
    "</h4>  "
   ]
  },
  {
   "cell_type": "code",
   "execution_count": 12,
   "id": "b5f2ad54",
   "metadata": {},
   "outputs": [
    {
     "data": {
      "text/plain": [
       "119"
      ]
     },
     "execution_count": 12,
     "metadata": {},
     "output_type": "execute_result"
    }
   ],
   "source": [
    "data.duplicated().sum()"
   ]
  },
  {
   "cell_type": "markdown",
   "id": "32d257d5",
   "metadata": {},
   "source": [
    "- Nesse caso temos 119 linhas duplicadas e precisamos gerar uma ação a partir disso para evitar que o resultado fique enviesado, por se tratar de uma base de dados grande será possível excluir somente."
   ]
  },
  {
   "cell_type": "markdown",
   "id": "9daecbd6",
   "metadata": {},
   "source": [
    "<h4>\n",
    "   3.8.1 Visualizando as linhas duplicadas;\n",
    "</h4>  "
   ]
  },
  {
   "cell_type": "code",
   "execution_count": 13,
   "id": "70a1485f",
   "metadata": {},
   "outputs": [
    {
     "data": {
      "text/html": [
       "<div>\n",
       "<style scoped>\n",
       "    .dataframe tbody tr th:only-of-type {\n",
       "        vertical-align: middle;\n",
       "    }\n",
       "\n",
       "    .dataframe tbody tr th {\n",
       "        vertical-align: top;\n",
       "    }\n",
       "\n",
       "    .dataframe thead th {\n",
       "        text-align: right;\n",
       "    }\n",
       "</style>\n",
       "<table border=\"1\" class=\"dataframe\">\n",
       "  <thead>\n",
       "    <tr style=\"text-align: right;\">\n",
       "      <th></th>\n",
       "      <th>Administrative</th>\n",
       "      <th>Administrative_Duration</th>\n",
       "      <th>Informational</th>\n",
       "      <th>Informational_Duration</th>\n",
       "      <th>ProductRelated</th>\n",
       "      <th>ProductRelated_Duration</th>\n",
       "      <th>BounceRates</th>\n",
       "      <th>ExitRates</th>\n",
       "      <th>PageValues</th>\n",
       "      <th>SpecialDay</th>\n",
       "      <th>Month</th>\n",
       "      <th>OperatingSystems</th>\n",
       "      <th>Browser</th>\n",
       "      <th>Region</th>\n",
       "      <th>TrafficType</th>\n",
       "      <th>VisitorType</th>\n",
       "      <th>Weekend</th>\n",
       "      <th>Revenue</th>\n",
       "    </tr>\n",
       "  </thead>\n",
       "  <tbody>\n",
       "    <tr>\n",
       "      <th>85</th>\n",
       "      <td>0.0</td>\n",
       "      <td>0.0</td>\n",
       "      <td>0.0</td>\n",
       "      <td>0.0</td>\n",
       "      <td>1.0</td>\n",
       "      <td>0.0</td>\n",
       "      <td>0.2</td>\n",
       "      <td>0.2</td>\n",
       "      <td>0.0</td>\n",
       "      <td>0.0</td>\n",
       "      <td>Feb</td>\n",
       "      <td>1</td>\n",
       "      <td>1</td>\n",
       "      <td>1</td>\n",
       "      <td>3</td>\n",
       "      <td>Returning_Visitor</td>\n",
       "      <td>False</td>\n",
       "      <td>False</td>\n",
       "    </tr>\n",
       "    <tr>\n",
       "      <th>158</th>\n",
       "      <td>0.0</td>\n",
       "      <td>0.0</td>\n",
       "      <td>0.0</td>\n",
       "      <td>0.0</td>\n",
       "      <td>1.0</td>\n",
       "      <td>0.0</td>\n",
       "      <td>0.2</td>\n",
       "      <td>0.2</td>\n",
       "      <td>0.0</td>\n",
       "      <td>0.0</td>\n",
       "      <td>Feb</td>\n",
       "      <td>1</td>\n",
       "      <td>1</td>\n",
       "      <td>1</td>\n",
       "      <td>3</td>\n",
       "      <td>Returning_Visitor</td>\n",
       "      <td>False</td>\n",
       "      <td>False</td>\n",
       "    </tr>\n",
       "    <tr>\n",
       "      <th>159</th>\n",
       "      <td>0.0</td>\n",
       "      <td>0.0</td>\n",
       "      <td>0.0</td>\n",
       "      <td>0.0</td>\n",
       "      <td>1.0</td>\n",
       "      <td>0.0</td>\n",
       "      <td>0.2</td>\n",
       "      <td>0.2</td>\n",
       "      <td>0.0</td>\n",
       "      <td>0.0</td>\n",
       "      <td>Feb</td>\n",
       "      <td>3</td>\n",
       "      <td>2</td>\n",
       "      <td>3</td>\n",
       "      <td>3</td>\n",
       "      <td>Returning_Visitor</td>\n",
       "      <td>False</td>\n",
       "      <td>False</td>\n",
       "    </tr>\n",
       "    <tr>\n",
       "      <th>178</th>\n",
       "      <td>0.0</td>\n",
       "      <td>0.0</td>\n",
       "      <td>0.0</td>\n",
       "      <td>0.0</td>\n",
       "      <td>1.0</td>\n",
       "      <td>0.0</td>\n",
       "      <td>0.2</td>\n",
       "      <td>0.2</td>\n",
       "      <td>0.0</td>\n",
       "      <td>0.0</td>\n",
       "      <td>Feb</td>\n",
       "      <td>3</td>\n",
       "      <td>2</td>\n",
       "      <td>3</td>\n",
       "      <td>3</td>\n",
       "      <td>Returning_Visitor</td>\n",
       "      <td>False</td>\n",
       "      <td>False</td>\n",
       "    </tr>\n",
       "    <tr>\n",
       "      <th>286</th>\n",
       "      <td>0.0</td>\n",
       "      <td>0.0</td>\n",
       "      <td>0.0</td>\n",
       "      <td>0.0</td>\n",
       "      <td>1.0</td>\n",
       "      <td>0.0</td>\n",
       "      <td>0.2</td>\n",
       "      <td>0.2</td>\n",
       "      <td>0.0</td>\n",
       "      <td>0.0</td>\n",
       "      <td>Mar</td>\n",
       "      <td>2</td>\n",
       "      <td>2</td>\n",
       "      <td>1</td>\n",
       "      <td>1</td>\n",
       "      <td>Returning_Visitor</td>\n",
       "      <td>False</td>\n",
       "      <td>False</td>\n",
       "    </tr>\n",
       "    <tr>\n",
       "      <th>...</th>\n",
       "      <td>...</td>\n",
       "      <td>...</td>\n",
       "      <td>...</td>\n",
       "      <td>...</td>\n",
       "      <td>...</td>\n",
       "      <td>...</td>\n",
       "      <td>...</td>\n",
       "      <td>...</td>\n",
       "      <td>...</td>\n",
       "      <td>...</td>\n",
       "      <td>...</td>\n",
       "      <td>...</td>\n",
       "      <td>...</td>\n",
       "      <td>...</td>\n",
       "      <td>...</td>\n",
       "      <td>...</td>\n",
       "      <td>...</td>\n",
       "      <td>...</td>\n",
       "    </tr>\n",
       "    <tr>\n",
       "      <th>11934</th>\n",
       "      <td>0.0</td>\n",
       "      <td>0.0</td>\n",
       "      <td>0.0</td>\n",
       "      <td>0.0</td>\n",
       "      <td>1.0</td>\n",
       "      <td>0.0</td>\n",
       "      <td>0.2</td>\n",
       "      <td>0.2</td>\n",
       "      <td>0.0</td>\n",
       "      <td>0.0</td>\n",
       "      <td>Dec</td>\n",
       "      <td>1</td>\n",
       "      <td>1</td>\n",
       "      <td>1</td>\n",
       "      <td>2</td>\n",
       "      <td>New_Visitor</td>\n",
       "      <td>False</td>\n",
       "      <td>False</td>\n",
       "    </tr>\n",
       "    <tr>\n",
       "      <th>11938</th>\n",
       "      <td>0.0</td>\n",
       "      <td>0.0</td>\n",
       "      <td>0.0</td>\n",
       "      <td>0.0</td>\n",
       "      <td>1.0</td>\n",
       "      <td>0.0</td>\n",
       "      <td>0.2</td>\n",
       "      <td>0.2</td>\n",
       "      <td>0.0</td>\n",
       "      <td>0.0</td>\n",
       "      <td>Dec</td>\n",
       "      <td>1</td>\n",
       "      <td>1</td>\n",
       "      <td>4</td>\n",
       "      <td>1</td>\n",
       "      <td>Returning_Visitor</td>\n",
       "      <td>True</td>\n",
       "      <td>False</td>\n",
       "    </tr>\n",
       "    <tr>\n",
       "      <th>12159</th>\n",
       "      <td>0.0</td>\n",
       "      <td>0.0</td>\n",
       "      <td>0.0</td>\n",
       "      <td>0.0</td>\n",
       "      <td>1.0</td>\n",
       "      <td>0.0</td>\n",
       "      <td>0.2</td>\n",
       "      <td>0.2</td>\n",
       "      <td>0.0</td>\n",
       "      <td>0.0</td>\n",
       "      <td>Dec</td>\n",
       "      <td>1</td>\n",
       "      <td>1</td>\n",
       "      <td>1</td>\n",
       "      <td>3</td>\n",
       "      <td>Returning_Visitor</td>\n",
       "      <td>False</td>\n",
       "      <td>False</td>\n",
       "    </tr>\n",
       "    <tr>\n",
       "      <th>12180</th>\n",
       "      <td>0.0</td>\n",
       "      <td>0.0</td>\n",
       "      <td>0.0</td>\n",
       "      <td>0.0</td>\n",
       "      <td>1.0</td>\n",
       "      <td>0.0</td>\n",
       "      <td>0.2</td>\n",
       "      <td>0.2</td>\n",
       "      <td>0.0</td>\n",
       "      <td>0.0</td>\n",
       "      <td>Dec</td>\n",
       "      <td>1</td>\n",
       "      <td>13</td>\n",
       "      <td>9</td>\n",
       "      <td>20</td>\n",
       "      <td>Returning_Visitor</td>\n",
       "      <td>False</td>\n",
       "      <td>False</td>\n",
       "    </tr>\n",
       "    <tr>\n",
       "      <th>12185</th>\n",
       "      <td>0.0</td>\n",
       "      <td>0.0</td>\n",
       "      <td>0.0</td>\n",
       "      <td>0.0</td>\n",
       "      <td>1.0</td>\n",
       "      <td>0.0</td>\n",
       "      <td>0.2</td>\n",
       "      <td>0.2</td>\n",
       "      <td>0.0</td>\n",
       "      <td>0.0</td>\n",
       "      <td>Dec</td>\n",
       "      <td>8</td>\n",
       "      <td>13</td>\n",
       "      <td>9</td>\n",
       "      <td>20</td>\n",
       "      <td>Other</td>\n",
       "      <td>False</td>\n",
       "      <td>False</td>\n",
       "    </tr>\n",
       "  </tbody>\n",
       "</table>\n",
       "<p>192 rows × 18 columns</p>\n",
       "</div>"
      ],
      "text/plain": [
       "       Administrative  Administrative_Duration  Informational  \\\n",
       "85                0.0                      0.0            0.0   \n",
       "158               0.0                      0.0            0.0   \n",
       "159               0.0                      0.0            0.0   \n",
       "178               0.0                      0.0            0.0   \n",
       "286               0.0                      0.0            0.0   \n",
       "...               ...                      ...            ...   \n",
       "11934             0.0                      0.0            0.0   \n",
       "11938             0.0                      0.0            0.0   \n",
       "12159             0.0                      0.0            0.0   \n",
       "12180             0.0                      0.0            0.0   \n",
       "12185             0.0                      0.0            0.0   \n",
       "\n",
       "       Informational_Duration  ProductRelated  ProductRelated_Duration  \\\n",
       "85                        0.0             1.0                      0.0   \n",
       "158                       0.0             1.0                      0.0   \n",
       "159                       0.0             1.0                      0.0   \n",
       "178                       0.0             1.0                      0.0   \n",
       "286                       0.0             1.0                      0.0   \n",
       "...                       ...             ...                      ...   \n",
       "11934                     0.0             1.0                      0.0   \n",
       "11938                     0.0             1.0                      0.0   \n",
       "12159                     0.0             1.0                      0.0   \n",
       "12180                     0.0             1.0                      0.0   \n",
       "12185                     0.0             1.0                      0.0   \n",
       "\n",
       "       BounceRates  ExitRates  PageValues  SpecialDay Month  OperatingSystems  \\\n",
       "85             0.2        0.2         0.0         0.0   Feb                 1   \n",
       "158            0.2        0.2         0.0         0.0   Feb                 1   \n",
       "159            0.2        0.2         0.0         0.0   Feb                 3   \n",
       "178            0.2        0.2         0.0         0.0   Feb                 3   \n",
       "286            0.2        0.2         0.0         0.0   Mar                 2   \n",
       "...            ...        ...         ...         ...   ...               ...   \n",
       "11934          0.2        0.2         0.0         0.0   Dec                 1   \n",
       "11938          0.2        0.2         0.0         0.0   Dec                 1   \n",
       "12159          0.2        0.2         0.0         0.0   Dec                 1   \n",
       "12180          0.2        0.2         0.0         0.0   Dec                 1   \n",
       "12185          0.2        0.2         0.0         0.0   Dec                 8   \n",
       "\n",
       "       Browser  Region  TrafficType        VisitorType  Weekend  Revenue  \n",
       "85           1       1            3  Returning_Visitor    False    False  \n",
       "158          1       1            3  Returning_Visitor    False    False  \n",
       "159          2       3            3  Returning_Visitor    False    False  \n",
       "178          2       3            3  Returning_Visitor    False    False  \n",
       "286          2       1            1  Returning_Visitor    False    False  \n",
       "...        ...     ...          ...                ...      ...      ...  \n",
       "11934        1       1            2        New_Visitor    False    False  \n",
       "11938        1       4            1  Returning_Visitor     True    False  \n",
       "12159        1       1            3  Returning_Visitor    False    False  \n",
       "12180       13       9           20  Returning_Visitor    False    False  \n",
       "12185       13       9           20              Other    False    False  \n",
       "\n",
       "[192 rows x 18 columns]"
      ]
     },
     "execution_count": 13,
     "metadata": {},
     "output_type": "execute_result"
    }
   ],
   "source": [
    "data[data.duplicated(keep=False)]"
   ]
  },
  {
   "cell_type": "markdown",
   "id": "d17b096d",
   "metadata": {},
   "source": [
    " - As linhas são identicas precisamos tratar mas faremos isso posteriormente na fase de limpesa dos dados também."
   ]
  },
  {
   "cell_type": "markdown",
   "id": "95594bdf",
   "metadata": {},
   "source": [
    "<h2>\n",
    "     4. Limpeza dos dados;\n",
    "</h2>"
   ]
  },
  {
   "cell_type": "markdown",
   "id": "6c09da0f",
   "metadata": {},
   "source": [
    "<h4>\n",
    "   4.1 Tratamento das linhas duplicadas;\n",
    "</h4>  "
   ]
  },
  {
   "cell_type": "code",
   "execution_count": 14,
   "id": "fedadccb",
   "metadata": {},
   "outputs": [],
   "source": [
    "data.drop_duplicates(keep='first', inplace=True)"
   ]
  },
  {
   "cell_type": "code",
   "execution_count": 15,
   "id": "505c4edb",
   "metadata": {},
   "outputs": [
    {
     "data": {
      "text/html": [
       "<div>\n",
       "<style scoped>\n",
       "    .dataframe tbody tr th:only-of-type {\n",
       "        vertical-align: middle;\n",
       "    }\n",
       "\n",
       "    .dataframe tbody tr th {\n",
       "        vertical-align: top;\n",
       "    }\n",
       "\n",
       "    .dataframe thead th {\n",
       "        text-align: right;\n",
       "    }\n",
       "</style>\n",
       "<table border=\"1\" class=\"dataframe\">\n",
       "  <thead>\n",
       "    <tr style=\"text-align: right;\">\n",
       "      <th></th>\n",
       "      <th>Administrative</th>\n",
       "      <th>Administrative_Duration</th>\n",
       "      <th>Informational</th>\n",
       "      <th>Informational_Duration</th>\n",
       "      <th>ProductRelated</th>\n",
       "      <th>ProductRelated_Duration</th>\n",
       "      <th>BounceRates</th>\n",
       "      <th>ExitRates</th>\n",
       "      <th>PageValues</th>\n",
       "      <th>SpecialDay</th>\n",
       "      <th>Month</th>\n",
       "      <th>OperatingSystems</th>\n",
       "      <th>Browser</th>\n",
       "      <th>Region</th>\n",
       "      <th>TrafficType</th>\n",
       "      <th>VisitorType</th>\n",
       "      <th>Weekend</th>\n",
       "      <th>Revenue</th>\n",
       "    </tr>\n",
       "  </thead>\n",
       "  <tbody>\n",
       "  </tbody>\n",
       "</table>\n",
       "</div>"
      ],
      "text/plain": [
       "Empty DataFrame\n",
       "Columns: [Administrative, Administrative_Duration, Informational, Informational_Duration, ProductRelated, ProductRelated_Duration, BounceRates, ExitRates, PageValues, SpecialDay, Month, OperatingSystems, Browser, Region, TrafficType, VisitorType, Weekend, Revenue]\n",
       "Index: []"
      ]
     },
     "execution_count": 15,
     "metadata": {},
     "output_type": "execute_result"
    }
   ],
   "source": [
    "data[data.duplicated(keep=False)]"
   ]
  },
  {
   "cell_type": "markdown",
   "id": "ad6a05a2",
   "metadata": {},
   "source": [
    "- Efetuamos o tratamento das linhas duplicadas, aonde vamos manter apenas as primeiras linhas de cada repetição pois são todas idênticas."
   ]
  },
  {
   "cell_type": "markdown",
   "id": "a85c1280",
   "metadata": {},
   "source": [
    "<h4>\n",
    "   4.2 Tratamento dos dados nulos;\n",
    "</h4>  "
   ]
  },
  {
   "cell_type": "code",
   "execution_count": 16,
   "id": "4550597b",
   "metadata": {},
   "outputs": [],
   "source": [
    "data.dropna(inplace = True)"
   ]
  },
  {
   "cell_type": "code",
   "execution_count": 17,
   "id": "ad991d3f",
   "metadata": {
    "scrolled": true
   },
   "outputs": [
    {
     "name": "stdout",
     "output_type": "stream",
     "text": [
      "Administrative             0\n",
      "Administrative_Duration    0\n",
      "Informational              0\n",
      "Informational_Duration     0\n",
      "ProductRelated             0\n",
      "ProductRelated_Duration    0\n",
      "BounceRates                0\n",
      "ExitRates                  0\n",
      "PageValues                 0\n",
      "SpecialDay                 0\n",
      "Month                      0\n",
      "OperatingSystems           0\n",
      "Browser                    0\n",
      "Region                     0\n",
      "TrafficType                0\n",
      "VisitorType                0\n",
      "Weekend                    0\n",
      "Revenue                    0\n",
      "dtype: int64\n"
     ]
    },
    {
     "data": {
      "text/plain": [
       "(12199, 18)"
      ]
     },
     "execution_count": 17,
     "metadata": {},
     "output_type": "execute_result"
    }
   ],
   "source": [
    "print(data.isna().sum())\n",
    "data.shape"
   ]
  },
  {
   "cell_type": "markdown",
   "id": "f82d02d8",
   "metadata": {},
   "source": [
    "- Tratamento efetuado, agora não temos mais valores nulos no dataset, ficamos com o total de 12.199 linhas."
   ]
  },
  {
   "cell_type": "markdown",
   "id": "96662f9e",
   "metadata": {},
   "source": [
    "<h4>\n",
    "   4.2 Separar dados categoricos e dados numéricos;\n",
    "</h4>  "
   ]
  },
  {
   "cell_type": "code",
   "execution_count": 18,
   "id": "8c0e75cd",
   "metadata": {},
   "outputs": [],
   "source": [
    "data_copy = data.copy()\n",
    "\n",
    "continuous = []\n",
    "categorical = []\n",
    "\n",
    "for c in data.columns[:-1]:\n",
    "    if data.nunique()[c] >= 30:\n",
    "        continuous.append(c)\n",
    "    else:\n",
    "        categorical.append(c)"
   ]
  },
  {
   "cell_type": "code",
   "execution_count": 19,
   "id": "8eb3e4bc",
   "metadata": {
    "scrolled": false
   },
   "outputs": [
    {
     "data": {
      "text/plain": [
       "['Administrative_Duration',\n",
       " 'Informational_Duration',\n",
       " 'ProductRelated',\n",
       " 'ProductRelated_Duration',\n",
       " 'BounceRates',\n",
       " 'ExitRates',\n",
       " 'PageValues']"
      ]
     },
     "execution_count": 19,
     "metadata": {},
     "output_type": "execute_result"
    }
   ],
   "source": [
    "continuous"
   ]
  },
  {
   "cell_type": "code",
   "execution_count": 20,
   "id": "ea6b8069",
   "metadata": {},
   "outputs": [
    {
     "data": {
      "text/html": [
       "<div>\n",
       "<style scoped>\n",
       "    .dataframe tbody tr th:only-of-type {\n",
       "        vertical-align: middle;\n",
       "    }\n",
       "\n",
       "    .dataframe tbody tr th {\n",
       "        vertical-align: top;\n",
       "    }\n",
       "\n",
       "    .dataframe thead th {\n",
       "        text-align: right;\n",
       "    }\n",
       "</style>\n",
       "<table border=\"1\" class=\"dataframe\">\n",
       "  <thead>\n",
       "    <tr style=\"text-align: right;\">\n",
       "      <th></th>\n",
       "      <th>Administrative_Duration</th>\n",
       "      <th>Informational_Duration</th>\n",
       "      <th>ProductRelated</th>\n",
       "      <th>ProductRelated_Duration</th>\n",
       "      <th>BounceRates</th>\n",
       "      <th>ExitRates</th>\n",
       "      <th>PageValues</th>\n",
       "    </tr>\n",
       "  </thead>\n",
       "  <tbody>\n",
       "    <tr>\n",
       "      <th>0</th>\n",
       "      <td>0.0</td>\n",
       "      <td>0.0</td>\n",
       "      <td>1.0</td>\n",
       "      <td>0.000000</td>\n",
       "      <td>0.20</td>\n",
       "      <td>0.20</td>\n",
       "      <td>0.0</td>\n",
       "    </tr>\n",
       "    <tr>\n",
       "      <th>1</th>\n",
       "      <td>0.0</td>\n",
       "      <td>0.0</td>\n",
       "      <td>2.0</td>\n",
       "      <td>64.000000</td>\n",
       "      <td>0.00</td>\n",
       "      <td>0.10</td>\n",
       "      <td>0.0</td>\n",
       "    </tr>\n",
       "    <tr>\n",
       "      <th>2</th>\n",
       "      <td>-1.0</td>\n",
       "      <td>-1.0</td>\n",
       "      <td>1.0</td>\n",
       "      <td>-1.000000</td>\n",
       "      <td>0.20</td>\n",
       "      <td>0.20</td>\n",
       "      <td>0.0</td>\n",
       "    </tr>\n",
       "    <tr>\n",
       "      <th>3</th>\n",
       "      <td>0.0</td>\n",
       "      <td>0.0</td>\n",
       "      <td>2.0</td>\n",
       "      <td>2.666667</td>\n",
       "      <td>0.05</td>\n",
       "      <td>0.14</td>\n",
       "      <td>0.0</td>\n",
       "    </tr>\n",
       "    <tr>\n",
       "      <th>4</th>\n",
       "      <td>0.0</td>\n",
       "      <td>0.0</td>\n",
       "      <td>10.0</td>\n",
       "      <td>627.500000</td>\n",
       "      <td>0.02</td>\n",
       "      <td>0.05</td>\n",
       "      <td>0.0</td>\n",
       "    </tr>\n",
       "  </tbody>\n",
       "</table>\n",
       "</div>"
      ],
      "text/plain": [
       "   Administrative_Duration  Informational_Duration  ProductRelated  \\\n",
       "0                      0.0                     0.0             1.0   \n",
       "1                      0.0                     0.0             2.0   \n",
       "2                     -1.0                    -1.0             1.0   \n",
       "3                      0.0                     0.0             2.0   \n",
       "4                      0.0                     0.0            10.0   \n",
       "\n",
       "   ProductRelated_Duration  BounceRates  ExitRates  PageValues  \n",
       "0                 0.000000         0.20       0.20         0.0  \n",
       "1                64.000000         0.00       0.10         0.0  \n",
       "2                -1.000000         0.20       0.20         0.0  \n",
       "3                 2.666667         0.05       0.14         0.0  \n",
       "4               627.500000         0.02       0.05         0.0  "
      ]
     },
     "execution_count": 20,
     "metadata": {},
     "output_type": "execute_result"
    }
   ],
   "source": [
    "data[continuous].head()"
   ]
  },
  {
   "cell_type": "code",
   "execution_count": 21,
   "id": "35d2ef63",
   "metadata": {
    "scrolled": true
   },
   "outputs": [
    {
     "data": {
      "text/plain": [
       "['Administrative',\n",
       " 'Informational',\n",
       " 'SpecialDay',\n",
       " 'Month',\n",
       " 'OperatingSystems',\n",
       " 'Browser',\n",
       " 'Region',\n",
       " 'TrafficType',\n",
       " 'VisitorType',\n",
       " 'Weekend']"
      ]
     },
     "execution_count": 21,
     "metadata": {},
     "output_type": "execute_result"
    }
   ],
   "source": [
    "categorical"
   ]
  },
  {
   "cell_type": "code",
   "execution_count": 22,
   "id": "20847699",
   "metadata": {},
   "outputs": [
    {
     "data": {
      "text/html": [
       "<div>\n",
       "<style scoped>\n",
       "    .dataframe tbody tr th:only-of-type {\n",
       "        vertical-align: middle;\n",
       "    }\n",
       "\n",
       "    .dataframe tbody tr th {\n",
       "        vertical-align: top;\n",
       "    }\n",
       "\n",
       "    .dataframe thead th {\n",
       "        text-align: right;\n",
       "    }\n",
       "</style>\n",
       "<table border=\"1\" class=\"dataframe\">\n",
       "  <thead>\n",
       "    <tr style=\"text-align: right;\">\n",
       "      <th></th>\n",
       "      <th>Administrative</th>\n",
       "      <th>Informational</th>\n",
       "      <th>SpecialDay</th>\n",
       "      <th>Month</th>\n",
       "      <th>OperatingSystems</th>\n",
       "      <th>Browser</th>\n",
       "      <th>Region</th>\n",
       "      <th>TrafficType</th>\n",
       "      <th>VisitorType</th>\n",
       "      <th>Weekend</th>\n",
       "    </tr>\n",
       "  </thead>\n",
       "  <tbody>\n",
       "    <tr>\n",
       "      <th>0</th>\n",
       "      <td>0.0</td>\n",
       "      <td>0.0</td>\n",
       "      <td>0.0</td>\n",
       "      <td>Feb</td>\n",
       "      <td>1</td>\n",
       "      <td>1</td>\n",
       "      <td>1</td>\n",
       "      <td>1</td>\n",
       "      <td>Returning_Visitor</td>\n",
       "      <td>False</td>\n",
       "    </tr>\n",
       "    <tr>\n",
       "      <th>1</th>\n",
       "      <td>0.0</td>\n",
       "      <td>0.0</td>\n",
       "      <td>0.0</td>\n",
       "      <td>Feb</td>\n",
       "      <td>2</td>\n",
       "      <td>2</td>\n",
       "      <td>1</td>\n",
       "      <td>2</td>\n",
       "      <td>Returning_Visitor</td>\n",
       "      <td>False</td>\n",
       "    </tr>\n",
       "    <tr>\n",
       "      <th>2</th>\n",
       "      <td>0.0</td>\n",
       "      <td>0.0</td>\n",
       "      <td>0.0</td>\n",
       "      <td>Feb</td>\n",
       "      <td>4</td>\n",
       "      <td>1</td>\n",
       "      <td>9</td>\n",
       "      <td>3</td>\n",
       "      <td>Returning_Visitor</td>\n",
       "      <td>False</td>\n",
       "    </tr>\n",
       "    <tr>\n",
       "      <th>3</th>\n",
       "      <td>0.0</td>\n",
       "      <td>0.0</td>\n",
       "      <td>0.0</td>\n",
       "      <td>Feb</td>\n",
       "      <td>3</td>\n",
       "      <td>2</td>\n",
       "      <td>2</td>\n",
       "      <td>4</td>\n",
       "      <td>Returning_Visitor</td>\n",
       "      <td>False</td>\n",
       "    </tr>\n",
       "    <tr>\n",
       "      <th>4</th>\n",
       "      <td>0.0</td>\n",
       "      <td>0.0</td>\n",
       "      <td>0.0</td>\n",
       "      <td>Feb</td>\n",
       "      <td>3</td>\n",
       "      <td>3</td>\n",
       "      <td>1</td>\n",
       "      <td>4</td>\n",
       "      <td>Returning_Visitor</td>\n",
       "      <td>True</td>\n",
       "    </tr>\n",
       "  </tbody>\n",
       "</table>\n",
       "</div>"
      ],
      "text/plain": [
       "   Administrative  Informational  SpecialDay Month  OperatingSystems  Browser  \\\n",
       "0             0.0            0.0         0.0   Feb                 1        1   \n",
       "1             0.0            0.0         0.0   Feb                 2        2   \n",
       "2             0.0            0.0         0.0   Feb                 4        1   \n",
       "3             0.0            0.0         0.0   Feb                 3        2   \n",
       "4             0.0            0.0         0.0   Feb                 3        3   \n",
       "\n",
       "   Region  TrafficType        VisitorType  Weekend  \n",
       "0       1            1  Returning_Visitor    False  \n",
       "1       1            2  Returning_Visitor    False  \n",
       "2       9            3  Returning_Visitor    False  \n",
       "3       2            4  Returning_Visitor    False  \n",
       "4       1            4  Returning_Visitor     True  "
      ]
     },
     "execution_count": 22,
     "metadata": {},
     "output_type": "execute_result"
    }
   ],
   "source": [
    "data[categorical].head()"
   ]
  },
  {
   "cell_type": "markdown",
   "id": "ee2ddde5",
   "metadata": {},
   "source": [
    "- Criamos uma cópia do data frame original, pois também serparamos as variáveis continuas e as variáveis categoricas, para que podemos analisar e trabalhar em cada um deles."
   ]
  },
  {
   "cell_type": "markdown",
   "id": "a4ef3dd2",
   "metadata": {},
   "source": [
    "<h2>\n",
    "     5. Análise exploratória dos dados;\n",
    "</h2>"
   ]
  },
  {
   "cell_type": "markdown",
   "id": "814081a8",
   "metadata": {},
   "source": [
    "<h4>\n",
    "5.1 Análises e insights importantes;\n",
    "</h4>"
   ]
  },
  {
   "cell_type": "code",
   "execution_count": 23,
   "id": "52ce8a79",
   "metadata": {},
   "outputs": [
    {
     "data": {
      "image/png": "[encoded data removed]",
      "text/plain": [
       "<Figure size 1500x1000 with 7 Axes>"
      ]
     },
     "metadata": {},
     "output_type": "display_data"
    }
   ],
   "source": [
    "fig = plt.figure(figsize = (15,10))\n",
    "\n",
    "# Loop pelas variáveis contínuas\n",
    "for i, col in enumerate(continuous):\n",
    "    plt.subplot(3, 3, i + 1);\n",
    "    data.boxplot(col);\n",
    "    plt.tight_layout()\n",
    "    \n",
    "plt.savefig('boxplot1.png')\n",
    "#plt.title('OUTLIERS', fontsize=15, fontweight='bold')"
   ]
  },
  {
   "cell_type": "markdown",
   "id": "205ab8da",
   "metadata": {},
   "source": [
    "- Será necessário tratar todas essas outliers para que o algoritmo tenha um melhor desempenho."
   ]
  },
  {
   "cell_type": "markdown",
   "id": "d7fd47af",
   "metadata": {},
   "source": [
    "<h4>\n",
    "5.2 Correlações entre os dados;\n",
    "</h4>"
   ]
  },
  {
   "cell_type": "code",
   "execution_count": 24,
   "id": "d8dda80b",
   "metadata": {
    "scrolled": true
   },
   "outputs": [
    {
     "data": {
      "text/plain": [
       "Text(0.5, 1.0, 'Matriz de Correlação')"
      ]
     },
     "execution_count": 24,
     "metadata": {},
     "output_type": "execute_result"
    },
    {
     "data": {
      "image/png": "[encoded data removed]",
      "text/plain": [
       "<Figure size 640x480 with 2 Axes>"
      ]
     },
     "metadata": {},
     "output_type": "display_data"
    }
   ],
   "source": [
    "sns.heatmap(data[['Administrative_Duration',\n",
    " 'Informational_Duration',\n",
    " 'ProductRelated',\n",
    " 'ProductRelated_Duration',\n",
    " 'BounceRates',\n",
    " 'ExitRates',\n",
    " 'PageValues', 'Revenue']].corr(), cmap='Reds', annot= True)\n",
    "plt.title('Matriz de Correlação')"
   ]
  },
  {
   "cell_type": "markdown",
   "id": "5e80390b",
   "metadata": {},
   "source": [
    "- Existe uma correlação muito forte entre o BounceRates e o ExitRates, além do Pagevalues e Revenue, provável que teremos que tratar essa correlação."
   ]
  },
  {
   "cell_type": "code",
   "execution_count": 25,
   "id": "2909c912",
   "metadata": {},
   "outputs": [
    {
     "data": {
      "text/plain": [
       "<AxesSubplot:title={'center':'Venda ou Não'}, xlabel='Revenue', ylabel='count'>"
      ]
     },
     "execution_count": 25,
     "metadata": {},
     "output_type": "execute_result"
    },
    {
     "data": {
      "image/png": "[encoded data removed]",
      "text/plain": [
       "<Figure size 640x480 with 1 Axes>"
      ]
     },
     "metadata": {},
     "output_type": "display_data"
    }
   ],
   "source": [
    "plt.subplot(1,2,2)\n",
    "plt.title(\"Venda ou Não\")\n",
    "sns.countplot(data['Revenue'])"
   ]
  },
  {
   "cell_type": "markdown",
   "id": "c8dcc47e",
   "metadata": {},
   "source": [
    "- Observamos também que o volume de visitas que não efetua a compra também é muito alto e relação ao volume de pessoas que compram, isso pode afetar muito a qualidade do resultado portanto teremos que fazer um balanceamento."
   ]
  },
  {
   "cell_type": "code",
   "execution_count": 26,
   "id": "a972628e",
   "metadata": {},
   "outputs": [
    {
     "data": {
      "text/plain": [
       "Text(0.5, 1.0, 'Tipos de Visitas')"
      ]
     },
     "execution_count": 26,
     "metadata": {},
     "output_type": "execute_result"
    },
    {
     "data": {
      "image/png": "[encoded data removed]",
      "text/plain": [
       "<Figure size 640x480 with 1 Axes>"
      ]
     },
     "metadata": {},
     "output_type": "display_data"
    }
   ],
   "source": [
    "plt.xlabel(\"Tipo de Visitante\")\n",
    "sns.countplot(data['VisitorType'])\n",
    "plt.title(\"Tipos de Visitas\")\n"
   ]
  },
  {
   "cell_type": "markdown",
   "id": "0db79b30",
   "metadata": {},
   "source": [
    "- Temos um volume bem grande também de clientes que retornam ao site. "
   ]
  },
  {
   "cell_type": "code",
   "execution_count": 27,
   "id": "8604658e",
   "metadata": {},
   "outputs": [
    {
     "data": {
      "text/plain": [
       "<AxesSubplot:xlabel='VisitorType'>"
      ]
     },
     "execution_count": 27,
     "metadata": {},
     "output_type": "execute_result"
    },
    {
     "data": {
      "image/png": "[encoded data removed]",
      "text/plain": [
       "<Figure size 2000x500 with 1 Axes>"
      ]
     },
     "metadata": {},
     "output_type": "display_data"
    }
   ],
   "source": [
    "pd.crosstab(data['VisitorType'], data['Revenue']).plot(kind = 'bar', \n",
    "                                                   stacked = True, \n",
    "                                                   figsize = (20, 5), \n",
    "                                                   color = ['red', 'green'])"
   ]
  },
  {
   "cell_type": "markdown",
   "id": "db083a68",
   "metadata": {},
   "source": [
    "- Os visitantes que mais geram receitas são os visitantes que estão retornando ao site, assim já podemos ter um visão em qual foco podemos seguir para fazer campanhas direcionadas."
   ]
  },
  {
   "cell_type": "code",
   "execution_count": 28,
   "id": "894aa25b",
   "metadata": {},
   "outputs": [
    {
     "data": {
      "text/plain": [
       "<matplotlib.legend.Legend at 0x27a3e009a60>"
      ]
     },
     "execution_count": 28,
     "metadata": {},
     "output_type": "execute_result"
    },
    {
     "data": {
      "image/png": "[encoded data removed]",
      "text/plain": [
       "<Figure size 640x480 with 1 Axes>"
      ]
     },
     "metadata": {},
     "output_type": "display_data"
    }
   ],
   "source": [
    "labels = ['Visitante_Retornando', 'Novo_Visitante', 'Outro']\n",
    "plt.title(\"Tipos de Visitantes\")\n",
    "plt.pie(data['VisitorType'].value_counts(), labels = labels, autopct = '%.2f%%')\n",
    "plt.legend()"
   ]
  },
  {
   "cell_type": "code",
   "execution_count": 29,
   "id": "804a01d2",
   "metadata": {},
   "outputs": [
    {
     "data": {
      "text/plain": [
       "<AxesSubplot:title={'center':'Final de Semana ou Não'}, xlabel='Weekend', ylabel='count'>"
      ]
     },
     "execution_count": 29,
     "metadata": {},
     "output_type": "execute_result"
    },
    {
     "data": {
      "image/png": "[encoded data removed]",
      "text/plain": [
       "<Figure size 640x480 with 1 Axes>"
      ]
     },
     "metadata": {},
     "output_type": "display_data"
    }
   ],
   "source": [
    "plt.subplot(1,2,1)\n",
    "plt.title(\"Final de Semana ou Não\")\n",
    "sns.countplot(data['Weekend'])"
   ]
  },
  {
   "cell_type": "code",
   "execution_count": 30,
   "id": "a366d69c",
   "metadata": {},
   "outputs": [
    {
     "data": {
      "text/plain": [
       "Text(0.5, 1.0, 'Final de semana x Receita')"
      ]
     },
     "execution_count": 30,
     "metadata": {},
     "output_type": "execute_result"
    },
    {
     "data": {
      "image/png": "[encoded data removed]",
      "text/plain": [
       "<Figure size 1500x500 with 1 Axes>"
      ]
     },
     "metadata": {},
     "output_type": "display_data"
    }
   ],
   "source": [
    "pd.crosstab(data['Weekend'], data['Revenue']).plot(kind = 'bar', \n",
    "                                               stacked = True, \n",
    "                                               figsize = (15, 5), \n",
    "                                               color = ['red', 'green'])\n",
    "plt.title(\"Final de semana x Receita\")"
   ]
  },
  {
   "cell_type": "markdown",
   "id": "fa7aa722",
   "metadata": {},
   "source": [
    "- O maior volume de receitas não são gerados no final de semana."
   ]
  },
  {
   "cell_type": "code",
   "execution_count": 31,
   "id": "3b44408b",
   "metadata": {},
   "outputs": [
    {
     "data": {
      "text/plain": [
       "<AxesSubplot:title={'center':'Tipos de Sistemas Operacionais'}, xlabel='OperatingSystems', ylabel='count'>"
      ]
     },
     "execution_count": 31,
     "metadata": {},
     "output_type": "execute_result"
    },
    {
     "data": {
      "image/png": "[encoded data removed]",
      "text/plain": [
       "<Figure size 640x480 with 1 Axes>"
      ]
     },
     "metadata": {},
     "output_type": "display_data"
    }
   ],
   "source": [
    "plt.title(\"Tipos de Sistemas Operacionais\")\n",
    "plt.xlabel(\"Sistema Operacional Usado\")\n",
    "sns.countplot(data['OperatingSystems'])"
   ]
  },
  {
   "cell_type": "code",
   "execution_count": 32,
   "id": "6d37d8fe",
   "metadata": {},
   "outputs": [
    {
     "data": {
      "text/plain": [
       "<AxesSubplot:xlabel='OperatingSystems'>"
      ]
     },
     "execution_count": 32,
     "metadata": {},
     "output_type": "execute_result"
    },
    {
     "data": {
      "image/png": "[encoded data removed]",
      "text/plain": [
       "<Figure size 1500x500 with 1 Axes>"
      ]
     },
     "metadata": {},
     "output_type": "display_data"
    }
   ],
   "source": [
    "pd.crosstab(data['OperatingSystems'], data['Revenue']).plot(kind = 'bar', \n",
    "                                                        stacked = True, \n",
    "                                                        figsize = (15, 5), \n",
    "                                                        color = ['red', 'green'])"
   ]
  },
  {
   "cell_type": "code",
   "execution_count": 33,
   "id": "39ff7a14",
   "metadata": {},
   "outputs": [
    {
     "data": {
      "text/plain": [
       "<AxesSubplot:title={'center':'Tipos de Tráfego'}, xlabel='TrafficType', ylabel='count'>"
      ]
     },
     "execution_count": 33,
     "metadata": {},
     "output_type": "execute_result"
    },
    {
     "data": {
      "image/png": "[encoded data removed]",
      "text/plain": [
       "<Figure size 640x480 with 1 Axes>"
      ]
     },
     "metadata": {},
     "output_type": "display_data"
    }
   ],
   "source": [
    "plt.title(\"Tipos de Tráfego\")\n",
    "plt.xlabel(\"Tipo de Tráfego\")\n",
    "sns.countplot(data['TrafficType'])"
   ]
  },
  {
   "cell_type": "code",
   "execution_count": 34,
   "id": "0241d587",
   "metadata": {},
   "outputs": [
    {
     "data": {
      "text/plain": [
       "<AxesSubplot:xlabel='TrafficType'>"
      ]
     },
     "execution_count": 34,
     "metadata": {},
     "output_type": "execute_result"
    },
    {
     "data": {
      "image/png": "[encoded data removed]",
      "text/plain": [
       "<Figure size 1500x500 with 1 Axes>"
      ]
     },
     "metadata": {},
     "output_type": "display_data"
    }
   ],
   "source": [
    "pd.crosstab(data['TrafficType'], data['Revenue']).plot(kind = 'bar', \n",
    "                                                   stacked = True, \n",
    "                                                   figsize = (15, 5), \n",
    "                                                   color = ['red', 'green'])"
   ]
  },
  {
   "cell_type": "markdown",
   "id": "7fb2e981",
   "metadata": {},
   "source": [
    "<h2>\n",
    "     6. Transformação e pré-processamento dos dados;\n",
    "</h2>"
   ]
  },
  {
   "cell_type": "markdown",
   "id": "72f19996",
   "metadata": {},
   "source": [
    "<h4>\n",
    "   6.1 Transformando as variáveis categoricas;\n",
    "</h4>  "
   ]
  },
  {
   "cell_type": "code",
   "execution_count": 35,
   "id": "8d3763b4",
   "metadata": {},
   "outputs": [
    {
     "data": {
      "text/html": [
       "<div>\n",
       "<style scoped>\n",
       "    .dataframe tbody tr th:only-of-type {\n",
       "        vertical-align: middle;\n",
       "    }\n",
       "\n",
       "    .dataframe tbody tr th {\n",
       "        vertical-align: top;\n",
       "    }\n",
       "\n",
       "    .dataframe thead th {\n",
       "        text-align: right;\n",
       "    }\n",
       "</style>\n",
       "<table border=\"1\" class=\"dataframe\">\n",
       "  <thead>\n",
       "    <tr style=\"text-align: right;\">\n",
       "      <th></th>\n",
       "      <th>Administrative</th>\n",
       "      <th>Administrative_Duration</th>\n",
       "      <th>Informational</th>\n",
       "      <th>Informational_Duration</th>\n",
       "      <th>ProductRelated</th>\n",
       "      <th>ProductRelated_Duration</th>\n",
       "      <th>BounceRates</th>\n",
       "      <th>ExitRates</th>\n",
       "      <th>PageValues</th>\n",
       "      <th>SpecialDay</th>\n",
       "      <th>Month</th>\n",
       "      <th>OperatingSystems</th>\n",
       "      <th>Browser</th>\n",
       "      <th>Region</th>\n",
       "      <th>TrafficType</th>\n",
       "      <th>VisitorType</th>\n",
       "      <th>Weekend</th>\n",
       "      <th>Revenue</th>\n",
       "    </tr>\n",
       "  </thead>\n",
       "  <tbody>\n",
       "    <tr>\n",
       "      <th>0</th>\n",
       "      <td>0.0</td>\n",
       "      <td>0.0</td>\n",
       "      <td>0.0</td>\n",
       "      <td>0.0</td>\n",
       "      <td>1.0</td>\n",
       "      <td>0.000000</td>\n",
       "      <td>0.20</td>\n",
       "      <td>0.20</td>\n",
       "      <td>0.0</td>\n",
       "      <td>0.0</td>\n",
       "      <td>Feb</td>\n",
       "      <td>1</td>\n",
       "      <td>1</td>\n",
       "      <td>1</td>\n",
       "      <td>1</td>\n",
       "      <td>Returning_Visitor</td>\n",
       "      <td>False</td>\n",
       "      <td>False</td>\n",
       "    </tr>\n",
       "    <tr>\n",
       "      <th>1</th>\n",
       "      <td>0.0</td>\n",
       "      <td>0.0</td>\n",
       "      <td>0.0</td>\n",
       "      <td>0.0</td>\n",
       "      <td>2.0</td>\n",
       "      <td>64.000000</td>\n",
       "      <td>0.00</td>\n",
       "      <td>0.10</td>\n",
       "      <td>0.0</td>\n",
       "      <td>0.0</td>\n",
       "      <td>Feb</td>\n",
       "      <td>2</td>\n",
       "      <td>2</td>\n",
       "      <td>1</td>\n",
       "      <td>2</td>\n",
       "      <td>Returning_Visitor</td>\n",
       "      <td>False</td>\n",
       "      <td>False</td>\n",
       "    </tr>\n",
       "    <tr>\n",
       "      <th>2</th>\n",
       "      <td>0.0</td>\n",
       "      <td>-1.0</td>\n",
       "      <td>0.0</td>\n",
       "      <td>-1.0</td>\n",
       "      <td>1.0</td>\n",
       "      <td>-1.000000</td>\n",
       "      <td>0.20</td>\n",
       "      <td>0.20</td>\n",
       "      <td>0.0</td>\n",
       "      <td>0.0</td>\n",
       "      <td>Feb</td>\n",
       "      <td>4</td>\n",
       "      <td>1</td>\n",
       "      <td>9</td>\n",
       "      <td>3</td>\n",
       "      <td>Returning_Visitor</td>\n",
       "      <td>False</td>\n",
       "      <td>False</td>\n",
       "    </tr>\n",
       "    <tr>\n",
       "      <th>3</th>\n",
       "      <td>0.0</td>\n",
       "      <td>0.0</td>\n",
       "      <td>0.0</td>\n",
       "      <td>0.0</td>\n",
       "      <td>2.0</td>\n",
       "      <td>2.666667</td>\n",
       "      <td>0.05</td>\n",
       "      <td>0.14</td>\n",
       "      <td>0.0</td>\n",
       "      <td>0.0</td>\n",
       "      <td>Feb</td>\n",
       "      <td>3</td>\n",
       "      <td>2</td>\n",
       "      <td>2</td>\n",
       "      <td>4</td>\n",
       "      <td>Returning_Visitor</td>\n",
       "      <td>False</td>\n",
       "      <td>False</td>\n",
       "    </tr>\n",
       "    <tr>\n",
       "      <th>4</th>\n",
       "      <td>0.0</td>\n",
       "      <td>0.0</td>\n",
       "      <td>0.0</td>\n",
       "      <td>0.0</td>\n",
       "      <td>10.0</td>\n",
       "      <td>627.500000</td>\n",
       "      <td>0.02</td>\n",
       "      <td>0.05</td>\n",
       "      <td>0.0</td>\n",
       "      <td>0.0</td>\n",
       "      <td>Feb</td>\n",
       "      <td>3</td>\n",
       "      <td>3</td>\n",
       "      <td>1</td>\n",
       "      <td>4</td>\n",
       "      <td>Returning_Visitor</td>\n",
       "      <td>True</td>\n",
       "      <td>False</td>\n",
       "    </tr>\n",
       "  </tbody>\n",
       "</table>\n",
       "</div>"
      ],
      "text/plain": [
       "   Administrative  Administrative_Duration  Informational  \\\n",
       "0             0.0                      0.0            0.0   \n",
       "1             0.0                      0.0            0.0   \n",
       "2             0.0                     -1.0            0.0   \n",
       "3             0.0                      0.0            0.0   \n",
       "4             0.0                      0.0            0.0   \n",
       "\n",
       "   Informational_Duration  ProductRelated  ProductRelated_Duration  \\\n",
       "0                     0.0             1.0                 0.000000   \n",
       "1                     0.0             2.0                64.000000   \n",
       "2                    -1.0             1.0                -1.000000   \n",
       "3                     0.0             2.0                 2.666667   \n",
       "4                     0.0            10.0               627.500000   \n",
       "\n",
       "   BounceRates  ExitRates  PageValues  SpecialDay Month  OperatingSystems  \\\n",
       "0         0.20       0.20         0.0         0.0   Feb                 1   \n",
       "1         0.00       0.10         0.0         0.0   Feb                 2   \n",
       "2         0.20       0.20         0.0         0.0   Feb                 4   \n",
       "3         0.05       0.14         0.0         0.0   Feb                 3   \n",
       "4         0.02       0.05         0.0         0.0   Feb                 3   \n",
       "\n",
       "   Browser  Region  TrafficType        VisitorType  Weekend  Revenue  \n",
       "0        1       1            1  Returning_Visitor    False    False  \n",
       "1        2       1            2  Returning_Visitor    False    False  \n",
       "2        1       9            3  Returning_Visitor    False    False  \n",
       "3        2       2            4  Returning_Visitor    False    False  \n",
       "4        3       1            4  Returning_Visitor     True    False  "
      ]
     },
     "execution_count": 35,
     "metadata": {},
     "output_type": "execute_result"
    }
   ],
   "source": [
    "data_copy.head()"
   ]
  },
  {
   "cell_type": "code",
   "execution_count": 36,
   "id": "d327efcc",
   "metadata": {},
   "outputs": [],
   "source": [
    "lb = LabelEncoder()\n",
    "\n",
    "data_copy['Month'] = lb.fit_transform(data_copy['Month'])\n",
    "data_copy['VisitorType'] = lb.fit_transform(data_copy['VisitorType'])"
   ]
  },
  {
   "cell_type": "code",
   "execution_count": 37,
   "id": "750062f4",
   "metadata": {},
   "outputs": [
    {
     "data": {
      "text/html": [
       "<div>\n",
       "<style scoped>\n",
       "    .dataframe tbody tr th:only-of-type {\n",
       "        vertical-align: middle;\n",
       "    }\n",
       "\n",
       "    .dataframe tbody tr th {\n",
       "        vertical-align: top;\n",
       "    }\n",
       "\n",
       "    .dataframe thead th {\n",
       "        text-align: right;\n",
       "    }\n",
       "</style>\n",
       "<table border=\"1\" class=\"dataframe\">\n",
       "  <thead>\n",
       "    <tr style=\"text-align: right;\">\n",
       "      <th></th>\n",
       "      <th>Administrative</th>\n",
       "      <th>Administrative_Duration</th>\n",
       "      <th>Informational</th>\n",
       "      <th>Informational_Duration</th>\n",
       "      <th>ProductRelated</th>\n",
       "      <th>ProductRelated_Duration</th>\n",
       "      <th>BounceRates</th>\n",
       "      <th>ExitRates</th>\n",
       "      <th>PageValues</th>\n",
       "      <th>SpecialDay</th>\n",
       "      <th>Month</th>\n",
       "      <th>OperatingSystems</th>\n",
       "      <th>Browser</th>\n",
       "      <th>Region</th>\n",
       "      <th>TrafficType</th>\n",
       "      <th>VisitorType</th>\n",
       "      <th>Weekend</th>\n",
       "      <th>Revenue</th>\n",
       "    </tr>\n",
       "  </thead>\n",
       "  <tbody>\n",
       "    <tr>\n",
       "      <th>0</th>\n",
       "      <td>0.0</td>\n",
       "      <td>0.0</td>\n",
       "      <td>0.0</td>\n",
       "      <td>0.0</td>\n",
       "      <td>1.0</td>\n",
       "      <td>0.000000</td>\n",
       "      <td>0.200000</td>\n",
       "      <td>0.200000</td>\n",
       "      <td>0.0</td>\n",
       "      <td>0.0</td>\n",
       "      <td>2</td>\n",
       "      <td>1</td>\n",
       "      <td>1</td>\n",
       "      <td>1</td>\n",
       "      <td>1</td>\n",
       "      <td>2</td>\n",
       "      <td>False</td>\n",
       "      <td>False</td>\n",
       "    </tr>\n",
       "    <tr>\n",
       "      <th>1</th>\n",
       "      <td>0.0</td>\n",
       "      <td>0.0</td>\n",
       "      <td>0.0</td>\n",
       "      <td>0.0</td>\n",
       "      <td>2.0</td>\n",
       "      <td>64.000000</td>\n",
       "      <td>0.000000</td>\n",
       "      <td>0.100000</td>\n",
       "      <td>0.0</td>\n",
       "      <td>0.0</td>\n",
       "      <td>2</td>\n",
       "      <td>2</td>\n",
       "      <td>2</td>\n",
       "      <td>1</td>\n",
       "      <td>2</td>\n",
       "      <td>2</td>\n",
       "      <td>False</td>\n",
       "      <td>False</td>\n",
       "    </tr>\n",
       "    <tr>\n",
       "      <th>2</th>\n",
       "      <td>0.0</td>\n",
       "      <td>-1.0</td>\n",
       "      <td>0.0</td>\n",
       "      <td>-1.0</td>\n",
       "      <td>1.0</td>\n",
       "      <td>-1.000000</td>\n",
       "      <td>0.200000</td>\n",
       "      <td>0.200000</td>\n",
       "      <td>0.0</td>\n",
       "      <td>0.0</td>\n",
       "      <td>2</td>\n",
       "      <td>4</td>\n",
       "      <td>1</td>\n",
       "      <td>9</td>\n",
       "      <td>3</td>\n",
       "      <td>2</td>\n",
       "      <td>False</td>\n",
       "      <td>False</td>\n",
       "    </tr>\n",
       "    <tr>\n",
       "      <th>3</th>\n",
       "      <td>0.0</td>\n",
       "      <td>0.0</td>\n",
       "      <td>0.0</td>\n",
       "      <td>0.0</td>\n",
       "      <td>2.0</td>\n",
       "      <td>2.666667</td>\n",
       "      <td>0.050000</td>\n",
       "      <td>0.140000</td>\n",
       "      <td>0.0</td>\n",
       "      <td>0.0</td>\n",
       "      <td>2</td>\n",
       "      <td>3</td>\n",
       "      <td>2</td>\n",
       "      <td>2</td>\n",
       "      <td>4</td>\n",
       "      <td>2</td>\n",
       "      <td>False</td>\n",
       "      <td>False</td>\n",
       "    </tr>\n",
       "    <tr>\n",
       "      <th>4</th>\n",
       "      <td>0.0</td>\n",
       "      <td>0.0</td>\n",
       "      <td>0.0</td>\n",
       "      <td>0.0</td>\n",
       "      <td>10.0</td>\n",
       "      <td>627.500000</td>\n",
       "      <td>0.020000</td>\n",
       "      <td>0.050000</td>\n",
       "      <td>0.0</td>\n",
       "      <td>0.0</td>\n",
       "      <td>2</td>\n",
       "      <td>3</td>\n",
       "      <td>3</td>\n",
       "      <td>1</td>\n",
       "      <td>4</td>\n",
       "      <td>2</td>\n",
       "      <td>True</td>\n",
       "      <td>False</td>\n",
       "    </tr>\n",
       "    <tr>\n",
       "      <th>...</th>\n",
       "      <td>...</td>\n",
       "      <td>...</td>\n",
       "      <td>...</td>\n",
       "      <td>...</td>\n",
       "      <td>...</td>\n",
       "      <td>...</td>\n",
       "      <td>...</td>\n",
       "      <td>...</td>\n",
       "      <td>...</td>\n",
       "      <td>...</td>\n",
       "      <td>...</td>\n",
       "      <td>...</td>\n",
       "      <td>...</td>\n",
       "      <td>...</td>\n",
       "      <td>...</td>\n",
       "      <td>...</td>\n",
       "      <td>...</td>\n",
       "      <td>...</td>\n",
       "    </tr>\n",
       "    <tr>\n",
       "      <th>95</th>\n",
       "      <td>0.0</td>\n",
       "      <td>0.0</td>\n",
       "      <td>0.0</td>\n",
       "      <td>0.0</td>\n",
       "      <td>2.0</td>\n",
       "      <td>33.000000</td>\n",
       "      <td>0.000000</td>\n",
       "      <td>0.100000</td>\n",
       "      <td>0.0</td>\n",
       "      <td>0.2</td>\n",
       "      <td>2</td>\n",
       "      <td>1</td>\n",
       "      <td>1</td>\n",
       "      <td>1</td>\n",
       "      <td>3</td>\n",
       "      <td>2</td>\n",
       "      <td>False</td>\n",
       "      <td>False</td>\n",
       "    </tr>\n",
       "    <tr>\n",
       "      <th>96</th>\n",
       "      <td>0.0</td>\n",
       "      <td>0.0</td>\n",
       "      <td>0.0</td>\n",
       "      <td>0.0</td>\n",
       "      <td>6.0</td>\n",
       "      <td>1566.500000</td>\n",
       "      <td>0.050000</td>\n",
       "      <td>0.066667</td>\n",
       "      <td>0.0</td>\n",
       "      <td>0.2</td>\n",
       "      <td>2</td>\n",
       "      <td>1</td>\n",
       "      <td>1</td>\n",
       "      <td>1</td>\n",
       "      <td>3</td>\n",
       "      <td>2</td>\n",
       "      <td>False</td>\n",
       "      <td>False</td>\n",
       "    </tr>\n",
       "    <tr>\n",
       "      <th>97</th>\n",
       "      <td>0.0</td>\n",
       "      <td>0.0</td>\n",
       "      <td>0.0</td>\n",
       "      <td>0.0</td>\n",
       "      <td>4.0</td>\n",
       "      <td>105.000000</td>\n",
       "      <td>0.000000</td>\n",
       "      <td>0.025000</td>\n",
       "      <td>0.0</td>\n",
       "      <td>0.6</td>\n",
       "      <td>2</td>\n",
       "      <td>1</td>\n",
       "      <td>1</td>\n",
       "      <td>1</td>\n",
       "      <td>4</td>\n",
       "      <td>2</td>\n",
       "      <td>False</td>\n",
       "      <td>False</td>\n",
       "    </tr>\n",
       "    <tr>\n",
       "      <th>98</th>\n",
       "      <td>0.0</td>\n",
       "      <td>0.0</td>\n",
       "      <td>1.0</td>\n",
       "      <td>0.0</td>\n",
       "      <td>7.0</td>\n",
       "      <td>50.000000</td>\n",
       "      <td>0.038095</td>\n",
       "      <td>0.080952</td>\n",
       "      <td>0.0</td>\n",
       "      <td>0.6</td>\n",
       "      <td>2</td>\n",
       "      <td>2</td>\n",
       "      <td>4</td>\n",
       "      <td>1</td>\n",
       "      <td>7</td>\n",
       "      <td>2</td>\n",
       "      <td>False</td>\n",
       "      <td>False</td>\n",
       "    </tr>\n",
       "    <tr>\n",
       "      <th>99</th>\n",
       "      <td>0.0</td>\n",
       "      <td>0.0</td>\n",
       "      <td>0.0</td>\n",
       "      <td>0.0</td>\n",
       "      <td>16.0</td>\n",
       "      <td>644.200000</td>\n",
       "      <td>0.004167</td>\n",
       "      <td>0.031667</td>\n",
       "      <td>0.0</td>\n",
       "      <td>0.0</td>\n",
       "      <td>2</td>\n",
       "      <td>3</td>\n",
       "      <td>2</td>\n",
       "      <td>3</td>\n",
       "      <td>4</td>\n",
       "      <td>2</td>\n",
       "      <td>False</td>\n",
       "      <td>False</td>\n",
       "    </tr>\n",
       "  </tbody>\n",
       "</table>\n",
       "<p>100 rows × 18 columns</p>\n",
       "</div>"
      ],
      "text/plain": [
       "    Administrative  Administrative_Duration  Informational  \\\n",
       "0              0.0                      0.0            0.0   \n",
       "1              0.0                      0.0            0.0   \n",
       "2              0.0                     -1.0            0.0   \n",
       "3              0.0                      0.0            0.0   \n",
       "4              0.0                      0.0            0.0   \n",
       "..             ...                      ...            ...   \n",
       "95             0.0                      0.0            0.0   \n",
       "96             0.0                      0.0            0.0   \n",
       "97             0.0                      0.0            0.0   \n",
       "98             0.0                      0.0            1.0   \n",
       "99             0.0                      0.0            0.0   \n",
       "\n",
       "    Informational_Duration  ProductRelated  ProductRelated_Duration  \\\n",
       "0                      0.0             1.0                 0.000000   \n",
       "1                      0.0             2.0                64.000000   \n",
       "2                     -1.0             1.0                -1.000000   \n",
       "3                      0.0             2.0                 2.666667   \n",
       "4                      0.0            10.0               627.500000   \n",
       "..                     ...             ...                      ...   \n",
       "95                     0.0             2.0                33.000000   \n",
       "96                     0.0             6.0              1566.500000   \n",
       "97                     0.0             4.0               105.000000   \n",
       "98                     0.0             7.0                50.000000   \n",
       "99                     0.0            16.0               644.200000   \n",
       "\n",
       "    BounceRates  ExitRates  PageValues  SpecialDay  Month  OperatingSystems  \\\n",
       "0      0.200000   0.200000         0.0         0.0      2                 1   \n",
       "1      0.000000   0.100000         0.0         0.0      2                 2   \n",
       "2      0.200000   0.200000         0.0         0.0      2                 4   \n",
       "3      0.050000   0.140000         0.0         0.0      2                 3   \n",
       "4      0.020000   0.050000         0.0         0.0      2                 3   \n",
       "..          ...        ...         ...         ...    ...               ...   \n",
       "95     0.000000   0.100000         0.0         0.2      2                 1   \n",
       "96     0.050000   0.066667         0.0         0.2      2                 1   \n",
       "97     0.000000   0.025000         0.0         0.6      2                 1   \n",
       "98     0.038095   0.080952         0.0         0.6      2                 2   \n",
       "99     0.004167   0.031667         0.0         0.0      2                 3   \n",
       "\n",
       "    Browser  Region  TrafficType  VisitorType  Weekend  Revenue  \n",
       "0         1       1            1            2    False    False  \n",
       "1         2       1            2            2    False    False  \n",
       "2         1       9            3            2    False    False  \n",
       "3         2       2            4            2    False    False  \n",
       "4         3       1            4            2     True    False  \n",
       "..      ...     ...          ...          ...      ...      ...  \n",
       "95        1       1            3            2    False    False  \n",
       "96        1       1            3            2    False    False  \n",
       "97        1       1            4            2    False    False  \n",
       "98        4       1            7            2    False    False  \n",
       "99        2       3            4            2    False    False  \n",
       "\n",
       "[100 rows x 18 columns]"
      ]
     },
     "execution_count": 37,
     "metadata": {},
     "output_type": "execute_result"
    }
   ],
   "source": [
    "data_copy.head(100)"
   ]
  },
  {
   "cell_type": "code",
   "execution_count": 38,
   "id": "07e29b3b",
   "metadata": {},
   "outputs": [
    {
     "data": {
      "text/plain": [
       "(12199, 18)"
      ]
     },
     "execution_count": 38,
     "metadata": {},
     "output_type": "execute_result"
    }
   ],
   "source": [
    "data_copy.shape"
   ]
  },
  {
   "cell_type": "markdown",
   "id": "d49910c4",
   "metadata": {},
   "source": [
    "<h4>\n",
    "   6.2 Balanceamento dos dados;\n",
    "</h4>  "
   ]
  },
  {
   "cell_type": "markdown",
   "id": "31747e8f",
   "metadata": {},
   "source": [
    "- Como citado anteriormente por existir um volume muito grande de visitantes que não compram no site e o volume dos visitantes que compram ser menor devemos balancear as classes (Oversampling), teremos que aumentar um pouco do data frame para balancear e manter as variáveis do mesmo tamanho."
   ]
  },
  {
   "cell_type": "code",
   "execution_count": 39,
   "id": "33423d64",
   "metadata": {},
   "outputs": [
    {
     "data": {
      "image/png": "[encoded data removed]",
      "text/plain": [
       "<Figure size 640x480 with 1 Axes>"
      ]
     },
     "metadata": {},
     "output_type": "display_data"
    }
   ],
   "source": [
    "sns.countplot(data_copy.Revenue, palette = \"OrRd\")\n",
    "plt.box(False)\n",
    "plt.xlabel('Receita (Revenue) Por Sessão Não (0) / Sim (1)', fontsize = 11)\n",
    "plt.ylabel('Total Sessões', fontsize = 11)\n",
    "plt.title('Contagem de Classes\\n')\n",
    "plt.show()"
   ]
  },
  {
   "cell_type": "markdown",
   "id": "f74c91eb",
   "metadata": {},
   "source": [
    " - Ao lidar com conjuntos de dados desbalanceados, o oversampling envolve a replicação ou geração sintética de instâncias da classe minoritária. Em outras palavras, se temos menos exemplos de uma determinada categoria, o oversampling cria cópias desses exemplos existentes ou utiliza técnicas para gerar novos exemplos semelhantes. Dessa forma, garantimos que o modelo tenha uma quantidade equilibrada de dados para aprender com eficiência, evitando que seja tendencioso em relação à classe majoritária. Essa abordagem promove uma melhor generalização do modelo para situações do mundo real."
   ]
  },
  {
   "cell_type": "code",
   "execution_count": 40,
   "id": "d8d9a815",
   "metadata": {},
   "outputs": [],
   "source": [
    "X = data_copy.iloc[:,0:17]\n",
    "Y = data_copy.iloc[:,17]"
   ]
  },
  {
   "cell_type": "markdown",
   "id": "92d7d09f",
   "metadata": {},
   "source": [
    " - Primeiro separamos as variáveis X e Y."
   ]
  },
  {
   "cell_type": "code",
   "execution_count": 41,
   "id": "af2d66a1",
   "metadata": {},
   "outputs": [],
   "source": [
    "seed = 7\n",
    "smote_bal = SMOTE(random_state = seed)"
   ]
  },
  {
   "cell_type": "markdown",
   "id": "3198c62b",
   "metadata": {},
   "source": [
    "- Criando o balanceador com o SMOTE."
   ]
  },
  {
   "cell_type": "code",
   "execution_count": 42,
   "id": "8cfb6ccd",
   "metadata": {},
   "outputs": [],
   "source": [
    "X_res, Y_res = smote_bal.fit_resample(X, Y)"
   ]
  },
  {
   "cell_type": "markdown",
   "id": "3f68b776",
   "metadata": {},
   "source": [
    "- Por ultimo vamos aplicar o resample com fit."
   ]
  },
  {
   "cell_type": "code",
   "execution_count": 43,
   "id": "e45c9ef4",
   "metadata": {},
   "outputs": [
    {
     "data": {
      "image/png": "[encoded data removed]",
      "text/plain": [
       "<Figure size 640x480 with 1 Axes>"
      ]
     },
     "metadata": {},
     "output_type": "display_data"
    }
   ],
   "source": [
    "sns.countplot(Y_res, palette = \"OrRd\")\n",
    "plt.box(False)\n",
    "plt.xlabel('Receita (Revenue) Por Sessão Não (0) / Sim (1)', fontsize = 11)\n",
    "plt.ylabel('Total Sessões', fontsize = 11)\n",
    "plt.title('Contagem de Classes\\n')\n",
    "plt.show()"
   ]
  },
  {
   "cell_type": "markdown",
   "id": "2800baa1",
   "metadata": {},
   "source": [
    "- Dessa forma rebalanceamos as classes e no momento da contrução e avaliação da maquina preditiva teremos um ótimo resultado."
   ]
  },
  {
   "cell_type": "code",
   "execution_count": 44,
   "id": "b940b84a",
   "metadata": {},
   "outputs": [],
   "source": [
    "X = X_res\n",
    "Y = Y_res\n",
    "# Ajustando as variáveis novamente."
   ]
  },
  {
   "cell_type": "markdown",
   "id": "e55a07a7",
   "metadata": {},
   "source": [
    "<h2>\n",
    "     7. Criação dos modelos preditivos de classificação e avaliação do resultado;\n",
    "</h2>"
   ]
  },
  {
   "cell_type": "markdown",
   "id": "743b5742",
   "metadata": {},
   "source": [
    "<h4>\n",
    "7.1 Separação de dados de treino e teste;\n",
    "</h4>"
   ]
  },
  {
   "cell_type": "code",
   "execution_count": 45,
   "id": "027a88c5",
   "metadata": {},
   "outputs": [],
   "source": [
    "X_train, X_test, y_train, y_test = train_test_split(X, Y, test_size = 0.3, random_state = 7)"
   ]
  },
  {
   "cell_type": "markdown",
   "id": "1efed7a3",
   "metadata": {},
   "source": [
    "<h4>\n",
    "7.2 Criação dos modelos e treino;\n",
    "</h4>"
   ]
  },
  {
   "cell_type": "code",
   "execution_count": 46,
   "id": "a64c44bc",
   "metadata": {},
   "outputs": [],
   "source": [
    "sc = StandardScaler()\n",
    "X_train_scaled = sc.fit_transform(X_train)\n",
    "X_test_scaled = sc.transform(X_test)"
   ]
  },
  {
   "cell_type": "markdown",
   "id": "8a96a329",
   "metadata": {},
   "source": [
    "- Para impedir que as informações sobre a distribuição do conjunto de teste vazem em seu modelo, o ideal é aplicar a padronização em separado nos dados de treino e de teste, ajustando o redimensionador apenas aos dados de treinamento, padronizando então os conjuntos de treinamento e teste com esse redimensionador (exatamente como está na célula acima). Ao ajustar o redimensionador no conjunto de dados completo antes da divisão em treino e teste, informações sobre o conjunto de testes são usadas para transformar o conjunto de treinamento.\n",
    "\n",
    "- Conhecer a distribuição de todo o conjunto de dados pode influenciar como você detecta e processa outliers, bem como como você parametriza seu modelo. Embora os dados em si não sejam expostos, há informações sobre a distribuição dos dados. Como resultado, o desempenho do seu conjunto de testes não é uma estimativa real do desempenho em dados invisíveis.\n",
    "\n",
    "- Sempre aplique a padronização depois de fazer a divisão em treino e teste, exatamente como fizemos aqui. Usamos fit_transform() nos dados de treino e transform() nos dados de teste quando usamos o StandardScaler()."
   ]
  },
  {
   "cell_type": "code",
   "execution_count": 47,
   "id": "77033448",
   "metadata": {},
   "outputs": [],
   "source": [
    "model_v1 = svm.SVC(kernel = 'linear')"
   ]
  },
  {
   "cell_type": "markdown",
   "id": "f1e2556f",
   "metadata": {},
   "source": [
    "- Iremos utilizar o SVC Support vector classifier pois iremos classificar o resultado, caso fosse uma regressão iriamos utilizar o SVR. E iremos utilizar o Kernel linear."
   ]
  },
  {
   "cell_type": "code",
   "execution_count": 49,
   "id": "838db527",
   "metadata": {},
   "outputs": [
    {
     "name": "stdout",
     "output_type": "stream",
     "text": [
      "Tempo de Treinamento do Modelo foi de : 4.370744466781616\n"
     ]
    }
   ],
   "source": [
    "start = time.time()\n",
    "model_v1.fit(X_train_scaled, y_train)\n",
    "end = time.time()\n",
    "print('Tempo de Treinamento do Modelo foi de :', end - start)"
   ]
  },
  {
   "cell_type": "code",
   "execution_count": 50,
   "id": "23090d5a",
   "metadata": {},
   "outputs": [],
   "source": [
    "predict_v1 = model_v1.predict(X_test_scaled)"
   ]
  },
  {
   "cell_type": "markdown",
   "id": "fed188e2",
   "metadata": {},
   "source": [
    "<h4>\n",
    "7.3 Avaliação do resultado;\n",
    "</h4>"
   ]
  },
  {
   "cell_type": "code",
   "execution_count": 52,
   "id": "5b336fcb",
   "metadata": {},
   "outputs": [],
   "source": [
    "SVM_dict_v1 = {'Modelo':'SVM',\n",
    "               'Versão':'1',\n",
    "               'Kernel':'Linear com Dados Padronizados',\n",
    "               'Precision':precision_score(predict_v1, y_test),\n",
    "               'Recall':recall_score(predict_v1, y_test),\n",
    "               'F1 Score':f1_score(predict_v1, y_test),\n",
    "               'Acurácia':accuracy_score(predict_v1, y_test),\n",
    "               'AUC':roc_auc_score(y_test, predict_v1)}"
   ]
  },
  {
   "cell_type": "code",
   "execution_count": 53,
   "id": "f8d552f0",
   "metadata": {},
   "outputs": [
    {
     "name": "stdout",
     "output_type": "stream",
     "text": [
      "Métricas em Teste:\n",
      "\n"
     ]
    },
    {
     "data": {
      "text/plain": [
       "{'Modelo': 'SVM',\n",
       " 'Versão': '1',\n",
       " 'Kernel': 'Linear com Dados Padronizados',\n",
       " 'Precision': 0.7973793544263343,\n",
       " 'Recall': 0.8872688477951636,\n",
       " 'F1 Score': 0.8399259383942097,\n",
       " 'Acurácia': 0.845991902834008,\n",
       " 'AUC': 0.8466542208769886}"
      ]
     },
     "execution_count": 53,
     "metadata": {},
     "output_type": "execute_result"
    }
   ],
   "source": [
    "print(\"Métricas em Teste:\\n\")\n",
    "SVM_dict_v1"
   ]
  },
  {
   "cell_type": "markdown",
   "id": "ec7d60b8",
   "metadata": {},
   "source": [
    "<h4>\n",
    "7.4 Criando uma nova maquina preditiva com a otimização de hiperparâmetros;\n",
    "</h4>"
   ]
  },
  {
   "cell_type": "code",
   "execution_count": 54,
   "id": "48dfb291",
   "metadata": {},
   "outputs": [],
   "source": [
    "model_v2 = svm.SVC(kernel = 'rbf')"
   ]
  },
  {
   "cell_type": "markdown",
   "id": "696b1080",
   "metadata": {},
   "source": [
    "<h4>\n",
    "    7.4.1 Valores utilizados no grid do hiperparâmetro;\n",
    "</h4>"
   ]
  },
  {
   "cell_type": "code",
   "execution_count": 55,
   "id": "06ce9818",
   "metadata": {},
   "outputs": [],
   "source": [
    "C_range = np.array([50., 100., 200.])\n",
    "gamma_range = np.array([0.3*0.001,0.001,3*0.001])"
   ]
  },
  {
   "cell_type": "markdown",
   "id": "266e8640",
   "metadata": {},
   "source": [
    "- Iremos utilizar o Grid Search para incluir uma lista de parâmetros e na avaliação iremos entender qual retornou a melhor acurácia durante o treino, além disso quais valores utilizar podemos buscar direto na documentação do scikit learn para os modelos svm."
   ]
  },
  {
   "cell_type": "code",
   "execution_count": 56,
   "id": "02ac0971",
   "metadata": {},
   "outputs": [],
   "source": [
    "svm_param_grid = dict(gamma = gamma_range, C = C_range)"
   ]
  },
  {
   "cell_type": "markdown",
   "id": "3ceefacd",
   "metadata": {},
   "source": [
    "<h4>\n",
    "7.5 Criando a segunda maquina preditiva e avaliando;\n",
    "</h4>"
   ]
  },
  {
   "cell_type": "code",
   "execution_count": 57,
   "id": "9e140cee",
   "metadata": {},
   "outputs": [],
   "source": [
    "start = time.time()\n",
    "model_v2_grid_search_rbf = GridSearchCV(model_v2, svm_param_grid, cv = 3)"
   ]
  },
  {
   "cell_type": "code",
   "execution_count": 58,
   "id": "5e9294c5",
   "metadata": {},
   "outputs": [
    {
     "name": "stdout",
     "output_type": "stream",
     "text": [
      "Tempo de Treinamento do Modelo com Grid Search: 73.94954562187195\n"
     ]
    }
   ],
   "source": [
    "model_v2_grid_search_rbf.fit(X_train_scaled, y_train)\n",
    "end = time.time()\n",
    "print('Tempo de Treinamento do Modelo com Grid Search:', end - start)"
   ]
  },
  {
   "cell_type": "code",
   "execution_count": 59,
   "id": "7f4dd475",
   "metadata": {},
   "outputs": [
    {
     "name": "stdout",
     "output_type": "stream",
     "text": [
      "Acurácia em Treinamento: 87.05%\n",
      "\n",
      "Hiperparâmetros Ideais: {'C': 200.0, 'gamma': 0.003}\n"
     ]
    }
   ],
   "source": [
    "print(f\"Acurácia em Treinamento: {model_v2_grid_search_rbf.best_score_ :.2%}\")\n",
    "print(\"\")\n",
    "print(f\"Hiperparâmetros Ideais: {model_v2_grid_search_rbf.best_params_}\")"
   ]
  },
  {
   "cell_type": "markdown",
   "id": "4205c131",
   "metadata": {},
   "source": [
    "- Podemos já visualizar a acurácia do modelo e os melhores parâmetros testados e assim incluir novos hiperparâmetros para tentar melhorar ainda mais a acurácia final."
   ]
  },
  {
   "cell_type": "code",
   "execution_count": 60,
   "id": "bf39f2d7",
   "metadata": {},
   "outputs": [],
   "source": [
    "predict_v2 = model_v2_grid_search_rbf.predict(X_test_scaled)"
   ]
  },
  {
   "cell_type": "code",
   "execution_count": 62,
   "id": "7cf72124",
   "metadata": {},
   "outputs": [],
   "source": [
    "SVM_dict_v2 = {'Modelo':'SVM',\n",
    "               'Versão':'2',\n",
    "               'Kernel':'RBF com Tunning de Hyperparâmetros',\n",
    "               'Precision':precision_score(predict_v2, y_test),\n",
    "               'Recall':recall_score(predict_v2, y_test),\n",
    "               'F1 Score':f1_score(predict_v2, y_test),\n",
    "               'Acurácia':accuracy_score(predict_v2, y_test),\n",
    "               'AUC':roc_auc_score(y_test, predict_v2)}"
   ]
  },
  {
   "cell_type": "markdown",
   "id": "e868fd51",
   "metadata": {},
   "source": [
    "- Criação de um novo dicionário com os resultados finais para comparar com o modelo 1."
   ]
  },
  {
   "cell_type": "code",
   "execution_count": 63,
   "id": "90d50a80",
   "metadata": {
    "scrolled": true
   },
   "outputs": [
    {
     "name": "stdout",
     "output_type": "stream",
     "text": [
      "Métricas em Teste:\n",
      "\n"
     ]
    },
    {
     "data": {
      "text/plain": [
       "{'Modelo': 'SVM',\n",
       " 'Versão': '2',\n",
       " 'Kernel': 'RBF com Tunning de Hyperparâmetros',\n",
       " 'Precision': 0.8558644934483861,\n",
       " 'Recall': 0.8932621747831888,\n",
       " 'F1 Score': 0.8741635384364289,\n",
       " 'Acurácia': 0.8751417004048583,\n",
       " 'AUC': 0.8754043412744228}"
      ]
     },
     "execution_count": 63,
     "metadata": {},
     "output_type": "execute_result"
    }
   ],
   "source": [
    "print(\"Métricas em Teste:\\n\")\n",
    "SVM_dict_v2"
   ]
  },
  {
   "cell_type": "markdown",
   "id": "6d1edc0f",
   "metadata": {},
   "source": [
    "<h4>\n",
    "7.6 Comparativo final entre os dois modelos criados;\n",
    "</h4>"
   ]
  },
  {
   "cell_type": "code",
   "execution_count": 64,
   "id": "010aa4e3",
   "metadata": {},
   "outputs": [],
   "source": [
    "resumo = pd.DataFrame({'Baseline':pd.Series(SVM_dict_v1),\n",
    "                       'Máquina_Preditiva':pd.Series(SVM_dict_v2)})"
   ]
  },
  {
   "cell_type": "code",
   "execution_count": 65,
   "id": "15c61b28",
   "metadata": {
    "scrolled": true
   },
   "outputs": [
    {
     "data": {
      "text/html": [
       "<div>\n",
       "<style scoped>\n",
       "    .dataframe tbody tr th:only-of-type {\n",
       "        vertical-align: middle;\n",
       "    }\n",
       "\n",
       "    .dataframe tbody tr th {\n",
       "        vertical-align: top;\n",
       "    }\n",
       "\n",
       "    .dataframe thead th {\n",
       "        text-align: right;\n",
       "    }\n",
       "</style>\n",
       "<table border=\"1\" class=\"dataframe\">\n",
       "  <thead>\n",
       "    <tr style=\"text-align: right;\">\n",
       "      <th></th>\n",
       "      <th>Baseline</th>\n",
       "      <th>Máquina_Preditiva</th>\n",
       "    </tr>\n",
       "  </thead>\n",
       "  <tbody>\n",
       "    <tr>\n",
       "      <th>Modelo</th>\n",
       "      <td>SVM</td>\n",
       "      <td>SVM</td>\n",
       "    </tr>\n",
       "    <tr>\n",
       "      <th>Versão</th>\n",
       "      <td>1</td>\n",
       "      <td>2</td>\n",
       "    </tr>\n",
       "    <tr>\n",
       "      <th>Kernel</th>\n",
       "      <td>Linear com Dados Padronizados</td>\n",
       "      <td>RBF com Tunning de Hyperparâmetros</td>\n",
       "    </tr>\n",
       "    <tr>\n",
       "      <th>Precision</th>\n",
       "      <td>0.797379</td>\n",
       "      <td>0.855864</td>\n",
       "    </tr>\n",
       "    <tr>\n",
       "      <th>Recall</th>\n",
       "      <td>0.887269</td>\n",
       "      <td>0.893262</td>\n",
       "    </tr>\n",
       "    <tr>\n",
       "      <th>F1 Score</th>\n",
       "      <td>0.839926</td>\n",
       "      <td>0.874164</td>\n",
       "    </tr>\n",
       "    <tr>\n",
       "      <th>Acurácia</th>\n",
       "      <td>0.845992</td>\n",
       "      <td>0.875142</td>\n",
       "    </tr>\n",
       "    <tr>\n",
       "      <th>AUC</th>\n",
       "      <td>0.846654</td>\n",
       "      <td>0.875404</td>\n",
       "    </tr>\n",
       "  </tbody>\n",
       "</table>\n",
       "</div>"
      ],
      "text/plain": [
       "                                Baseline                   Máquina_Preditiva\n",
       "Modelo                               SVM                                 SVM\n",
       "Versão                                 1                                   2\n",
       "Kernel     Linear com Dados Padronizados  RBF com Tunning de Hyperparâmetros\n",
       "Precision                       0.797379                            0.855864\n",
       "Recall                          0.887269                            0.893262\n",
       "F1 Score                        0.839926                            0.874164\n",
       "Acurácia                        0.845992                            0.875142\n",
       "AUC                             0.846654                            0.875404"
      ]
     },
     "execution_count": 65,
     "metadata": {},
     "output_type": "execute_result"
    }
   ],
   "source": [
    "resumo"
   ]
  },
  {
   "cell_type": "markdown",
   "id": "6919fa72",
   "metadata": {},
   "source": [
    "- Observando a acurácia da máquina preditiva tivemos uma evolução de 84% para 88% com o trabalho nos hiperparâmetros dizer "
   ]
  },
  {
   "cell_type": "markdown",
   "id": "d884cf54",
   "metadata": {},
   "source": [
    "<h2>\n",
    "     8. Conclusões finais;\n",
    "</h2>"
   ]
  },
  {
   "cell_type": "markdown",
   "id": "9cd24e8b",
   "metadata": {},
   "source": [
    "Com isso conseguimos resolver o problema de negócio com a listagem dos clientes que estão mais propensos a comprar no site, facilitando a ação da área de marketing direcionado para esse perfil de cliente as suas ações tornando assim mais assertivos, e como resultado final tornando possível obter uma maior economia em ações de vendas e propaganda direcionadas."
   ]
  }
 ],
 "metadata": {
  "kernelspec": {
   "display_name": "Python 3 (ipykernel)",
   "language": "python",
   "name": "python3"
  },
  "language_info": {
   "codemirror_mode": {
    "name": "ipython",
    "version": 3
   },
   "file_extension": ".py",
   "mimetype": "text/x-python",
   "name": "python",
   "nbconvert_exporter": "python",
   "pygments_lexer": "ipython3",
   "version": "3.9.13"
  }
 },
 "nbformat": 4,
 "nbformat_minor": 5
}
